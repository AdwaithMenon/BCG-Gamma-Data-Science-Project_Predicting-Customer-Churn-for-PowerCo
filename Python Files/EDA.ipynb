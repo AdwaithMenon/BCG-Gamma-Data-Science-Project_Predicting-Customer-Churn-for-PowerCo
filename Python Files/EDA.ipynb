{
  "cells": [
    {
      "cell_type": "markdown",
      "id": "a207638d-2d90-4a41-81e0-f86b35a174f9",
      "metadata": {
        "id": "a207638d-2d90-4a41-81e0-f86b35a174f9"
      },
      "source": [
        "# **Exploratory Data Analysis(EDA)**\n",
        "\n",
        "## **Importing Required packages**"
      ]
    },
    {
      "cell_type": "code",
      "execution_count": 226,
      "id": "21fa22a3-62fc-4ee9-ad3b-5e3fbc059bdf",
      "metadata": {
        "id": "21fa22a3-62fc-4ee9-ad3b-5e3fbc059bdf"
      },
      "outputs": [],
      "source": [
        "# Importing Required packages\n",
        "import matplotlib.pyplot as plt\n",
        "import seaborn as sns\n",
        "import pandas as pd\n",
        "import numpy as np\n",
        "\n",
        "# Shows plots in jupyter notebook\n",
        "%matplotlib inline\n",
        "\n",
        "# Set plot style\n",
        "sns.set(color_codes=True)"
      ]
    },
    {
      "cell_type": "code",
      "source": [
        "# Installing gdown\n",
        "\n",
        "!pip install gdown"
      ],
      "metadata": {
        "colab": {
          "base_uri": "https://localhost:8080/"
        },
        "id": "rdvBbwJGZ5A-",
        "outputId": "44a6da6b-ad2c-42b5-9840-1327dc1159ba"
      },
      "id": "rdvBbwJGZ5A-",
      "execution_count": 227,
      "outputs": [
        {
          "output_type": "stream",
          "name": "stdout",
          "text": [
            "Looking in indexes: https://pypi.org/simple, https://us-python.pkg.dev/colab-wheels/public/simple/\n",
            "Requirement already satisfied: gdown in /usr/local/lib/python3.9/dist-packages (4.6.4)\n",
            "Requirement already satisfied: six in /usr/local/lib/python3.9/dist-packages (from gdown) (1.16.0)\n",
            "Requirement already satisfied: beautifulsoup4 in /usr/local/lib/python3.9/dist-packages (from gdown) (4.11.2)\n",
            "Requirement already satisfied: filelock in /usr/local/lib/python3.9/dist-packages (from gdown) (3.10.1)\n",
            "Requirement already satisfied: requests[socks] in /usr/local/lib/python3.9/dist-packages (from gdown) (2.27.1)\n",
            "Requirement already satisfied: tqdm in /usr/local/lib/python3.9/dist-packages (from gdown) (4.65.0)\n",
            "Requirement already satisfied: soupsieve>1.2 in /usr/local/lib/python3.9/dist-packages (from beautifulsoup4->gdown) (2.4)\n",
            "Requirement already satisfied: charset-normalizer~=2.0.0 in /usr/local/lib/python3.9/dist-packages (from requests[socks]->gdown) (2.0.12)\n",
            "Requirement already satisfied: idna<4,>=2.5 in /usr/local/lib/python3.9/dist-packages (from requests[socks]->gdown) (3.4)\n",
            "Requirement already satisfied: urllib3<1.27,>=1.21.1 in /usr/local/lib/python3.9/dist-packages (from requests[socks]->gdown) (1.26.15)\n",
            "Requirement already satisfied: certifi>=2017.4.17 in /usr/local/lib/python3.9/dist-packages (from requests[socks]->gdown) (2022.12.7)\n",
            "Requirement already satisfied: PySocks!=1.5.7,>=1.5.6 in /usr/local/lib/python3.9/dist-packages (from requests[socks]->gdown) (1.7.1)\n"
          ]
        }
      ]
    },
    {
      "cell_type": "code",
      "source": [
        "# Importing datasets using gdown\n",
        "!gdown 1lk-beXjmC-6MnLNym93DhtiZBXeAU8vE\n",
        "!gdown 1S383LTjXg8s_XavGqQbLAvcfOFvh3Iwc"
      ],
      "metadata": {
        "colab": {
          "base_uri": "https://localhost:8080/"
        },
        "id": "ZHi0AP9KZ9Id",
        "outputId": "ca7a833e-52fa-41cc-8d8b-cb967eb6d6ed"
      },
      "id": "ZHi0AP9KZ9Id",
      "execution_count": 228,
      "outputs": [
        {
          "output_type": "stream",
          "name": "stdout",
          "text": [
            "Downloading...\n",
            "From: https://drive.google.com/uc?id=1lk-beXjmC-6MnLNym93DhtiZBXeAU8vE\n",
            "To: /content/price_data.csv\n",
            "100% 18.3M/18.3M [00:00<00:00, 87.9MB/s]\n",
            "Downloading...\n",
            "From: https://drive.google.com/uc?id=1S383LTjXg8s_XavGqQbLAvcfOFvh3Iwc\n",
            "To: /content/client_data.csv\n",
            "100% 3.49M/3.49M [00:00<00:00, 14.5MB/s]\n"
          ]
        }
      ]
    },
    {
      "cell_type": "markdown",
      "id": "88cb5312-cbc0-4193-b84e-2c94455c9edf",
      "metadata": {
        "id": "88cb5312-cbc0-4193-b84e-2c94455c9edf"
      },
      "source": [
        "---\n",
        "\n",
        "## **Loading data with Pandas**"
      ]
    },
    {
      "cell_type": "code",
      "execution_count": 229,
      "id": "82e6a4ae-2b8a-4152-b04f-0c998466fd50",
      "metadata": {
        "id": "82e6a4ae-2b8a-4152-b04f-0c998466fd50"
      },
      "outputs": [],
      "source": [
        "# Loading Client Data\n",
        "client_df = pd.read_csv('/content/client_data.csv')\n",
        "\n",
        "# Loading Price Data\n",
        "price_df = pd.read_csv('/content/price_data.csv')"
      ]
    },
    {
      "cell_type": "markdown",
      "source": [
        "Printing First 5 rows of both DataFrames"
      ],
      "metadata": {
        "id": "cN899BrfagFc"
      },
      "id": "cN899BrfagFc"
    },
    {
      "cell_type": "code",
      "execution_count": 230,
      "id": "dcf0d488-d3df-4819-a52b-e335c0674e43",
      "metadata": {
        "colab": {
          "base_uri": "https://localhost:8080/",
          "height": 438
        },
        "id": "dcf0d488-d3df-4819-a52b-e335c0674e43",
        "outputId": "3626abae-096a-4cfe-9142-3319af92ebe4"
      },
      "outputs": [
        {
          "output_type": "stream",
          "name": "stdout",
          "text": [
            "\n",
            "Client DataFrame\n",
            "\n"
          ]
        },
        {
          "output_type": "execute_result",
          "data": {
            "text/plain": [
              "                                 id                     channel_sales  \\\n",
              "0  24011ae4ebbe3035111d65fa7c15bc57  foosdfpfkusacimwkcsosbicdxkicaua   \n",
              "1  d29c2c54acc38ff3c0614d0a653813dd                           MISSING   \n",
              "2  764c75f661154dac3a6c254cd082ea7d  foosdfpfkusacimwkcsosbicdxkicaua   \n",
              "3  bba03439a292a1e166f80264c16191cb  lmkebamcaaclubfxadlmueccxoimlema   \n",
              "4  149d57cf92fc41cf94415803a877cb4b                           MISSING   \n",
              "\n",
              "   cons_12m  cons_gas_12m  cons_last_month  date_activ    date_end  \\\n",
              "0         0         54946                0  2013-06-15  2016-06-15   \n",
              "1      4660             0                0  2009-08-21  2016-08-30   \n",
              "2       544             0                0  2010-04-16  2016-04-16   \n",
              "3      1584             0                0  2010-03-30  2016-03-30   \n",
              "4      4425             0              526  2010-01-13  2016-03-07   \n",
              "\n",
              "  date_modif_prod date_renewal  forecast_cons_12m  ...  has_gas  imp_cons  \\\n",
              "0      2015-11-01   2015-06-23               0.00  ...        t      0.00   \n",
              "1      2009-08-21   2015-08-31             189.95  ...        f      0.00   \n",
              "2      2010-04-16   2015-04-17              47.96  ...        f      0.00   \n",
              "3      2010-03-30   2015-03-31             240.04  ...        f      0.00   \n",
              "4      2010-01-13   2015-03-09             445.75  ...        f     52.32   \n",
              "\n",
              "   margin_gross_pow_ele  margin_net_pow_ele  nb_prod_act  net_margin  \\\n",
              "0                 25.44               25.44            2      678.99   \n",
              "1                 16.38               16.38            1       18.89   \n",
              "2                 28.60               28.60            1        6.60   \n",
              "3                 30.22               30.22            1       25.46   \n",
              "4                 44.91               44.91            1       47.98   \n",
              "\n",
              "  num_years_antig                         origin_up  pow_max  churn  \n",
              "0               3  lxidpiddsbxsbosboudacockeimpuepw   43.648      1  \n",
              "1               6  kamkkxfxxuwbdslkwifmmcsiusiuosws   13.800      0  \n",
              "2               6  kamkkxfxxuwbdslkwifmmcsiusiuosws   13.856      0  \n",
              "3               6  kamkkxfxxuwbdslkwifmmcsiusiuosws   13.200      0  \n",
              "4               6  kamkkxfxxuwbdslkwifmmcsiusiuosws   19.800      0  \n",
              "\n",
              "[5 rows x 26 columns]"
            ],
            "text/html": [
              "\n",
              "  <div id=\"df-6f933141-b8cb-4da9-b35c-a936165772c0\">\n",
              "    <div class=\"colab-df-container\">\n",
              "      <div>\n",
              "<style scoped>\n",
              "    .dataframe tbody tr th:only-of-type {\n",
              "        vertical-align: middle;\n",
              "    }\n",
              "\n",
              "    .dataframe tbody tr th {\n",
              "        vertical-align: top;\n",
              "    }\n",
              "\n",
              "    .dataframe thead th {\n",
              "        text-align: right;\n",
              "    }\n",
              "</style>\n",
              "<table border=\"1\" class=\"dataframe\">\n",
              "  <thead>\n",
              "    <tr style=\"text-align: right;\">\n",
              "      <th></th>\n",
              "      <th>id</th>\n",
              "      <th>channel_sales</th>\n",
              "      <th>cons_12m</th>\n",
              "      <th>cons_gas_12m</th>\n",
              "      <th>cons_last_month</th>\n",
              "      <th>date_activ</th>\n",
              "      <th>date_end</th>\n",
              "      <th>date_modif_prod</th>\n",
              "      <th>date_renewal</th>\n",
              "      <th>forecast_cons_12m</th>\n",
              "      <th>...</th>\n",
              "      <th>has_gas</th>\n",
              "      <th>imp_cons</th>\n",
              "      <th>margin_gross_pow_ele</th>\n",
              "      <th>margin_net_pow_ele</th>\n",
              "      <th>nb_prod_act</th>\n",
              "      <th>net_margin</th>\n",
              "      <th>num_years_antig</th>\n",
              "      <th>origin_up</th>\n",
              "      <th>pow_max</th>\n",
              "      <th>churn</th>\n",
              "    </tr>\n",
              "  </thead>\n",
              "  <tbody>\n",
              "    <tr>\n",
              "      <th>0</th>\n",
              "      <td>24011ae4ebbe3035111d65fa7c15bc57</td>\n",
              "      <td>foosdfpfkusacimwkcsosbicdxkicaua</td>\n",
              "      <td>0</td>\n",
              "      <td>54946</td>\n",
              "      <td>0</td>\n",
              "      <td>2013-06-15</td>\n",
              "      <td>2016-06-15</td>\n",
              "      <td>2015-11-01</td>\n",
              "      <td>2015-06-23</td>\n",
              "      <td>0.00</td>\n",
              "      <td>...</td>\n",
              "      <td>t</td>\n",
              "      <td>0.00</td>\n",
              "      <td>25.44</td>\n",
              "      <td>25.44</td>\n",
              "      <td>2</td>\n",
              "      <td>678.99</td>\n",
              "      <td>3</td>\n",
              "      <td>lxidpiddsbxsbosboudacockeimpuepw</td>\n",
              "      <td>43.648</td>\n",
              "      <td>1</td>\n",
              "    </tr>\n",
              "    <tr>\n",
              "      <th>1</th>\n",
              "      <td>d29c2c54acc38ff3c0614d0a653813dd</td>\n",
              "      <td>MISSING</td>\n",
              "      <td>4660</td>\n",
              "      <td>0</td>\n",
              "      <td>0</td>\n",
              "      <td>2009-08-21</td>\n",
              "      <td>2016-08-30</td>\n",
              "      <td>2009-08-21</td>\n",
              "      <td>2015-08-31</td>\n",
              "      <td>189.95</td>\n",
              "      <td>...</td>\n",
              "      <td>f</td>\n",
              "      <td>0.00</td>\n",
              "      <td>16.38</td>\n",
              "      <td>16.38</td>\n",
              "      <td>1</td>\n",
              "      <td>18.89</td>\n",
              "      <td>6</td>\n",
              "      <td>kamkkxfxxuwbdslkwifmmcsiusiuosws</td>\n",
              "      <td>13.800</td>\n",
              "      <td>0</td>\n",
              "    </tr>\n",
              "    <tr>\n",
              "      <th>2</th>\n",
              "      <td>764c75f661154dac3a6c254cd082ea7d</td>\n",
              "      <td>foosdfpfkusacimwkcsosbicdxkicaua</td>\n",
              "      <td>544</td>\n",
              "      <td>0</td>\n",
              "      <td>0</td>\n",
              "      <td>2010-04-16</td>\n",
              "      <td>2016-04-16</td>\n",
              "      <td>2010-04-16</td>\n",
              "      <td>2015-04-17</td>\n",
              "      <td>47.96</td>\n",
              "      <td>...</td>\n",
              "      <td>f</td>\n",
              "      <td>0.00</td>\n",
              "      <td>28.60</td>\n",
              "      <td>28.60</td>\n",
              "      <td>1</td>\n",
              "      <td>6.60</td>\n",
              "      <td>6</td>\n",
              "      <td>kamkkxfxxuwbdslkwifmmcsiusiuosws</td>\n",
              "      <td>13.856</td>\n",
              "      <td>0</td>\n",
              "    </tr>\n",
              "    <tr>\n",
              "      <th>3</th>\n",
              "      <td>bba03439a292a1e166f80264c16191cb</td>\n",
              "      <td>lmkebamcaaclubfxadlmueccxoimlema</td>\n",
              "      <td>1584</td>\n",
              "      <td>0</td>\n",
              "      <td>0</td>\n",
              "      <td>2010-03-30</td>\n",
              "      <td>2016-03-30</td>\n",
              "      <td>2010-03-30</td>\n",
              "      <td>2015-03-31</td>\n",
              "      <td>240.04</td>\n",
              "      <td>...</td>\n",
              "      <td>f</td>\n",
              "      <td>0.00</td>\n",
              "      <td>30.22</td>\n",
              "      <td>30.22</td>\n",
              "      <td>1</td>\n",
              "      <td>25.46</td>\n",
              "      <td>6</td>\n",
              "      <td>kamkkxfxxuwbdslkwifmmcsiusiuosws</td>\n",
              "      <td>13.200</td>\n",
              "      <td>0</td>\n",
              "    </tr>\n",
              "    <tr>\n",
              "      <th>4</th>\n",
              "      <td>149d57cf92fc41cf94415803a877cb4b</td>\n",
              "      <td>MISSING</td>\n",
              "      <td>4425</td>\n",
              "      <td>0</td>\n",
              "      <td>526</td>\n",
              "      <td>2010-01-13</td>\n",
              "      <td>2016-03-07</td>\n",
              "      <td>2010-01-13</td>\n",
              "      <td>2015-03-09</td>\n",
              "      <td>445.75</td>\n",
              "      <td>...</td>\n",
              "      <td>f</td>\n",
              "      <td>52.32</td>\n",
              "      <td>44.91</td>\n",
              "      <td>44.91</td>\n",
              "      <td>1</td>\n",
              "      <td>47.98</td>\n",
              "      <td>6</td>\n",
              "      <td>kamkkxfxxuwbdslkwifmmcsiusiuosws</td>\n",
              "      <td>19.800</td>\n",
              "      <td>0</td>\n",
              "    </tr>\n",
              "  </tbody>\n",
              "</table>\n",
              "<p>5 rows × 26 columns</p>\n",
              "</div>\n",
              "      <button class=\"colab-df-convert\" onclick=\"convertToInteractive('df-6f933141-b8cb-4da9-b35c-a936165772c0')\"\n",
              "              title=\"Convert this dataframe to an interactive table.\"\n",
              "              style=\"display:none;\">\n",
              "        \n",
              "  <svg xmlns=\"http://www.w3.org/2000/svg\" height=\"24px\"viewBox=\"0 0 24 24\"\n",
              "       width=\"24px\">\n",
              "    <path d=\"M0 0h24v24H0V0z\" fill=\"none\"/>\n",
              "    <path d=\"M18.56 5.44l.94 2.06.94-2.06 2.06-.94-2.06-.94-.94-2.06-.94 2.06-2.06.94zm-11 1L8.5 8.5l.94-2.06 2.06-.94-2.06-.94L8.5 2.5l-.94 2.06-2.06.94zm10 10l.94 2.06.94-2.06 2.06-.94-2.06-.94-.94-2.06-.94 2.06-2.06.94z\"/><path d=\"M17.41 7.96l-1.37-1.37c-.4-.4-.92-.59-1.43-.59-.52 0-1.04.2-1.43.59L10.3 9.45l-7.72 7.72c-.78.78-.78 2.05 0 2.83L4 21.41c.39.39.9.59 1.41.59.51 0 1.02-.2 1.41-.59l7.78-7.78 2.81-2.81c.8-.78.8-2.07 0-2.86zM5.41 20L4 18.59l7.72-7.72 1.47 1.35L5.41 20z\"/>\n",
              "  </svg>\n",
              "      </button>\n",
              "      \n",
              "  <style>\n",
              "    .colab-df-container {\n",
              "      display:flex;\n",
              "      flex-wrap:wrap;\n",
              "      gap: 12px;\n",
              "    }\n",
              "\n",
              "    .colab-df-convert {\n",
              "      background-color: #E8F0FE;\n",
              "      border: none;\n",
              "      border-radius: 50%;\n",
              "      cursor: pointer;\n",
              "      display: none;\n",
              "      fill: #1967D2;\n",
              "      height: 32px;\n",
              "      padding: 0 0 0 0;\n",
              "      width: 32px;\n",
              "    }\n",
              "\n",
              "    .colab-df-convert:hover {\n",
              "      background-color: #E2EBFA;\n",
              "      box-shadow: 0px 1px 2px rgba(60, 64, 67, 0.3), 0px 1px 3px 1px rgba(60, 64, 67, 0.15);\n",
              "      fill: #174EA6;\n",
              "    }\n",
              "\n",
              "    [theme=dark] .colab-df-convert {\n",
              "      background-color: #3B4455;\n",
              "      fill: #D2E3FC;\n",
              "    }\n",
              "\n",
              "    [theme=dark] .colab-df-convert:hover {\n",
              "      background-color: #434B5C;\n",
              "      box-shadow: 0px 1px 3px 1px rgba(0, 0, 0, 0.15);\n",
              "      filter: drop-shadow(0px 1px 2px rgba(0, 0, 0, 0.3));\n",
              "      fill: #FFFFFF;\n",
              "    }\n",
              "  </style>\n",
              "\n",
              "      <script>\n",
              "        const buttonEl =\n",
              "          document.querySelector('#df-6f933141-b8cb-4da9-b35c-a936165772c0 button.colab-df-convert');\n",
              "        buttonEl.style.display =\n",
              "          google.colab.kernel.accessAllowed ? 'block' : 'none';\n",
              "\n",
              "        async function convertToInteractive(key) {\n",
              "          const element = document.querySelector('#df-6f933141-b8cb-4da9-b35c-a936165772c0');\n",
              "          const dataTable =\n",
              "            await google.colab.kernel.invokeFunction('convertToInteractive',\n",
              "                                                     [key], {});\n",
              "          if (!dataTable) return;\n",
              "\n",
              "          const docLinkHtml = 'Like what you see? Visit the ' +\n",
              "            '<a target=\"_blank\" href=https://colab.research.google.com/notebooks/data_table.ipynb>data table notebook</a>'\n",
              "            + ' to learn more about interactive tables.';\n",
              "          element.innerHTML = '';\n",
              "          dataTable['output_type'] = 'display_data';\n",
              "          await google.colab.output.renderOutput(dataTable, element);\n",
              "          const docLink = document.createElement('div');\n",
              "          docLink.innerHTML = docLinkHtml;\n",
              "          element.appendChild(docLink);\n",
              "        }\n",
              "      </script>\n",
              "    </div>\n",
              "  </div>\n",
              "  "
            ]
          },
          "metadata": {},
          "execution_count": 230
        }
      ],
      "source": [
        "print(\"\\nClient DataFrame\\n\")\n",
        "client_df.head(5)"
      ]
    },
    {
      "cell_type": "code",
      "execution_count": 231,
      "id": "2654a02d-8cf3-4a18-903e-b4f7f95d8e9e",
      "metadata": {
        "colab": {
          "base_uri": "https://localhost:8080/",
          "height": 322
        },
        "id": "2654a02d-8cf3-4a18-903e-b4f7f95d8e9e",
        "outputId": "101cea55-ab68-42ac-f381-75573d3eec4d"
      },
      "outputs": [
        {
          "output_type": "stream",
          "name": "stdout",
          "text": [
            "\n",
            "Price DataFrame\n",
            "\n"
          ]
        },
        {
          "output_type": "execute_result",
          "data": {
            "text/plain": [
              "                                 id  price_date  price_off_peak_var  \\\n",
              "0  038af19179925da21a25619c5a24b745  2015-01-01            0.151367   \n",
              "1  038af19179925da21a25619c5a24b745  2015-02-01            0.151367   \n",
              "2  038af19179925da21a25619c5a24b745  2015-03-01            0.151367   \n",
              "3  038af19179925da21a25619c5a24b745  2015-04-01            0.149626   \n",
              "4  038af19179925da21a25619c5a24b745  2015-05-01            0.149626   \n",
              "\n",
              "   price_peak_var  price_mid_peak_var  price_off_peak_fix  price_peak_fix  \\\n",
              "0             0.0                 0.0           44.266931             0.0   \n",
              "1             0.0                 0.0           44.266931             0.0   \n",
              "2             0.0                 0.0           44.266931             0.0   \n",
              "3             0.0                 0.0           44.266931             0.0   \n",
              "4             0.0                 0.0           44.266931             0.0   \n",
              "\n",
              "   price_mid_peak_fix  \n",
              "0                 0.0  \n",
              "1                 0.0  \n",
              "2                 0.0  \n",
              "3                 0.0  \n",
              "4                 0.0  "
            ],
            "text/html": [
              "\n",
              "  <div id=\"df-52ba6f98-0a09-479e-8084-5b6a8c3ee6ae\">\n",
              "    <div class=\"colab-df-container\">\n",
              "      <div>\n",
              "<style scoped>\n",
              "    .dataframe tbody tr th:only-of-type {\n",
              "        vertical-align: middle;\n",
              "    }\n",
              "\n",
              "    .dataframe tbody tr th {\n",
              "        vertical-align: top;\n",
              "    }\n",
              "\n",
              "    .dataframe thead th {\n",
              "        text-align: right;\n",
              "    }\n",
              "</style>\n",
              "<table border=\"1\" class=\"dataframe\">\n",
              "  <thead>\n",
              "    <tr style=\"text-align: right;\">\n",
              "      <th></th>\n",
              "      <th>id</th>\n",
              "      <th>price_date</th>\n",
              "      <th>price_off_peak_var</th>\n",
              "      <th>price_peak_var</th>\n",
              "      <th>price_mid_peak_var</th>\n",
              "      <th>price_off_peak_fix</th>\n",
              "      <th>price_peak_fix</th>\n",
              "      <th>price_mid_peak_fix</th>\n",
              "    </tr>\n",
              "  </thead>\n",
              "  <tbody>\n",
              "    <tr>\n",
              "      <th>0</th>\n",
              "      <td>038af19179925da21a25619c5a24b745</td>\n",
              "      <td>2015-01-01</td>\n",
              "      <td>0.151367</td>\n",
              "      <td>0.0</td>\n",
              "      <td>0.0</td>\n",
              "      <td>44.266931</td>\n",
              "      <td>0.0</td>\n",
              "      <td>0.0</td>\n",
              "    </tr>\n",
              "    <tr>\n",
              "      <th>1</th>\n",
              "      <td>038af19179925da21a25619c5a24b745</td>\n",
              "      <td>2015-02-01</td>\n",
              "      <td>0.151367</td>\n",
              "      <td>0.0</td>\n",
              "      <td>0.0</td>\n",
              "      <td>44.266931</td>\n",
              "      <td>0.0</td>\n",
              "      <td>0.0</td>\n",
              "    </tr>\n",
              "    <tr>\n",
              "      <th>2</th>\n",
              "      <td>038af19179925da21a25619c5a24b745</td>\n",
              "      <td>2015-03-01</td>\n",
              "      <td>0.151367</td>\n",
              "      <td>0.0</td>\n",
              "      <td>0.0</td>\n",
              "      <td>44.266931</td>\n",
              "      <td>0.0</td>\n",
              "      <td>0.0</td>\n",
              "    </tr>\n",
              "    <tr>\n",
              "      <th>3</th>\n",
              "      <td>038af19179925da21a25619c5a24b745</td>\n",
              "      <td>2015-04-01</td>\n",
              "      <td>0.149626</td>\n",
              "      <td>0.0</td>\n",
              "      <td>0.0</td>\n",
              "      <td>44.266931</td>\n",
              "      <td>0.0</td>\n",
              "      <td>0.0</td>\n",
              "    </tr>\n",
              "    <tr>\n",
              "      <th>4</th>\n",
              "      <td>038af19179925da21a25619c5a24b745</td>\n",
              "      <td>2015-05-01</td>\n",
              "      <td>0.149626</td>\n",
              "      <td>0.0</td>\n",
              "      <td>0.0</td>\n",
              "      <td>44.266931</td>\n",
              "      <td>0.0</td>\n",
              "      <td>0.0</td>\n",
              "    </tr>\n",
              "  </tbody>\n",
              "</table>\n",
              "</div>\n",
              "      <button class=\"colab-df-convert\" onclick=\"convertToInteractive('df-52ba6f98-0a09-479e-8084-5b6a8c3ee6ae')\"\n",
              "              title=\"Convert this dataframe to an interactive table.\"\n",
              "              style=\"display:none;\">\n",
              "        \n",
              "  <svg xmlns=\"http://www.w3.org/2000/svg\" height=\"24px\"viewBox=\"0 0 24 24\"\n",
              "       width=\"24px\">\n",
              "    <path d=\"M0 0h24v24H0V0z\" fill=\"none\"/>\n",
              "    <path d=\"M18.56 5.44l.94 2.06.94-2.06 2.06-.94-2.06-.94-.94-2.06-.94 2.06-2.06.94zm-11 1L8.5 8.5l.94-2.06 2.06-.94-2.06-.94L8.5 2.5l-.94 2.06-2.06.94zm10 10l.94 2.06.94-2.06 2.06-.94-2.06-.94-.94-2.06-.94 2.06-2.06.94z\"/><path d=\"M17.41 7.96l-1.37-1.37c-.4-.4-.92-.59-1.43-.59-.52 0-1.04.2-1.43.59L10.3 9.45l-7.72 7.72c-.78.78-.78 2.05 0 2.83L4 21.41c.39.39.9.59 1.41.59.51 0 1.02-.2 1.41-.59l7.78-7.78 2.81-2.81c.8-.78.8-2.07 0-2.86zM5.41 20L4 18.59l7.72-7.72 1.47 1.35L5.41 20z\"/>\n",
              "  </svg>\n",
              "      </button>\n",
              "      \n",
              "  <style>\n",
              "    .colab-df-container {\n",
              "      display:flex;\n",
              "      flex-wrap:wrap;\n",
              "      gap: 12px;\n",
              "    }\n",
              "\n",
              "    .colab-df-convert {\n",
              "      background-color: #E8F0FE;\n",
              "      border: none;\n",
              "      border-radius: 50%;\n",
              "      cursor: pointer;\n",
              "      display: none;\n",
              "      fill: #1967D2;\n",
              "      height: 32px;\n",
              "      padding: 0 0 0 0;\n",
              "      width: 32px;\n",
              "    }\n",
              "\n",
              "    .colab-df-convert:hover {\n",
              "      background-color: #E2EBFA;\n",
              "      box-shadow: 0px 1px 2px rgba(60, 64, 67, 0.3), 0px 1px 3px 1px rgba(60, 64, 67, 0.15);\n",
              "      fill: #174EA6;\n",
              "    }\n",
              "\n",
              "    [theme=dark] .colab-df-convert {\n",
              "      background-color: #3B4455;\n",
              "      fill: #D2E3FC;\n",
              "    }\n",
              "\n",
              "    [theme=dark] .colab-df-convert:hover {\n",
              "      background-color: #434B5C;\n",
              "      box-shadow: 0px 1px 3px 1px rgba(0, 0, 0, 0.15);\n",
              "      filter: drop-shadow(0px 1px 2px rgba(0, 0, 0, 0.3));\n",
              "      fill: #FFFFFF;\n",
              "    }\n",
              "  </style>\n",
              "\n",
              "      <script>\n",
              "        const buttonEl =\n",
              "          document.querySelector('#df-52ba6f98-0a09-479e-8084-5b6a8c3ee6ae button.colab-df-convert');\n",
              "        buttonEl.style.display =\n",
              "          google.colab.kernel.accessAllowed ? 'block' : 'none';\n",
              "\n",
              "        async function convertToInteractive(key) {\n",
              "          const element = document.querySelector('#df-52ba6f98-0a09-479e-8084-5b6a8c3ee6ae');\n",
              "          const dataTable =\n",
              "            await google.colab.kernel.invokeFunction('convertToInteractive',\n",
              "                                                     [key], {});\n",
              "          if (!dataTable) return;\n",
              "\n",
              "          const docLinkHtml = 'Like what you see? Visit the ' +\n",
              "            '<a target=\"_blank\" href=https://colab.research.google.com/notebooks/data_table.ipynb>data table notebook</a>'\n",
              "            + ' to learn more about interactive tables.';\n",
              "          element.innerHTML = '';\n",
              "          dataTable['output_type'] = 'display_data';\n",
              "          await google.colab.output.renderOutput(dataTable, element);\n",
              "          const docLink = document.createElement('div');\n",
              "          docLink.innerHTML = docLinkHtml;\n",
              "          element.appendChild(docLink);\n",
              "        }\n",
              "      </script>\n",
              "    </div>\n",
              "  </div>\n",
              "  "
            ]
          },
          "metadata": {},
          "execution_count": 231
        }
      ],
      "source": [
        "print(\"\\nPrice DataFrame\\n\")\n",
        "price_df.head(5)"
      ]
    },
    {
      "cell_type": "markdown",
      "source": [
        "### **Shape of DataFrames**"
      ],
      "metadata": {
        "id": "UprpPN2wSh1y"
      },
      "id": "UprpPN2wSh1y"
    },
    {
      "cell_type": "code",
      "source": [
        "client_df.shape"
      ],
      "metadata": {
        "colab": {
          "base_uri": "https://localhost:8080/"
        },
        "id": "Es5lrnSXSkNZ",
        "outputId": "ba8ecbd6-b9ff-4593-ad63-2e98aec93015"
      },
      "id": "Es5lrnSXSkNZ",
      "execution_count": 232,
      "outputs": [
        {
          "output_type": "execute_result",
          "data": {
            "text/plain": [
              "(14606, 26)"
            ]
          },
          "metadata": {},
          "execution_count": 232
        }
      ]
    },
    {
      "cell_type": "code",
      "source": [
        "price_df.shape"
      ],
      "metadata": {
        "colab": {
          "base_uri": "https://localhost:8080/"
        },
        "id": "wAEiVLvMSltb",
        "outputId": "5a135d45-3190-490c-b83f-bb5b4a0bc06e"
      },
      "id": "wAEiVLvMSltb",
      "execution_count": 233,
      "outputs": [
        {
          "output_type": "execute_result",
          "data": {
            "text/plain": [
              "(193002, 8)"
            ]
          },
          "metadata": {},
          "execution_count": 233
        }
      ]
    },
    {
      "cell_type": "markdown",
      "id": "966c3948-41c0-4183-9118-dd665c58a93c",
      "metadata": {
        "id": "966c3948-41c0-4183-9118-dd665c58a93c"
      },
      "source": [
        "---\n",
        "\n",
        "## **Descriptive statistics of data**\n",
        "\n",
        "### **Summary of the Datasets / DataTypes**"
      ]
    },
    {
      "cell_type": "code",
      "execution_count": 234,
      "id": "2dc75b07-c286-4852-bc33-e501782e67d9",
      "metadata": {
        "colab": {
          "base_uri": "https://localhost:8080/"
        },
        "id": "2dc75b07-c286-4852-bc33-e501782e67d9",
        "outputId": "70a5665e-5808-4b81-c57b-394ededd6aae"
      },
      "outputs": [
        {
          "output_type": "stream",
          "name": "stdout",
          "text": [
            "<class 'pandas.core.frame.DataFrame'>\n",
            "RangeIndex: 14606 entries, 0 to 14605\n",
            "Data columns (total 26 columns):\n",
            " #   Column                          Non-Null Count  Dtype  \n",
            "---  ------                          --------------  -----  \n",
            " 0   id                              14606 non-null  object \n",
            " 1   channel_sales                   14606 non-null  object \n",
            " 2   cons_12m                        14606 non-null  int64  \n",
            " 3   cons_gas_12m                    14606 non-null  int64  \n",
            " 4   cons_last_month                 14606 non-null  int64  \n",
            " 5   date_activ                      14606 non-null  object \n",
            " 6   date_end                        14606 non-null  object \n",
            " 7   date_modif_prod                 14606 non-null  object \n",
            " 8   date_renewal                    14606 non-null  object \n",
            " 9   forecast_cons_12m               14606 non-null  float64\n",
            " 10  forecast_cons_year              14606 non-null  int64  \n",
            " 11  forecast_discount_energy        14606 non-null  float64\n",
            " 12  forecast_meter_rent_12m         14606 non-null  float64\n",
            " 13  forecast_price_energy_off_peak  14606 non-null  float64\n",
            " 14  forecast_price_energy_peak      14606 non-null  float64\n",
            " 15  forecast_price_pow_off_peak     14606 non-null  float64\n",
            " 16  has_gas                         14606 non-null  object \n",
            " 17  imp_cons                        14606 non-null  float64\n",
            " 18  margin_gross_pow_ele            14606 non-null  float64\n",
            " 19  margin_net_pow_ele              14606 non-null  float64\n",
            " 20  nb_prod_act                     14606 non-null  int64  \n",
            " 21  net_margin                      14606 non-null  float64\n",
            " 22  num_years_antig                 14606 non-null  int64  \n",
            " 23  origin_up                       14606 non-null  object \n",
            " 24  pow_max                         14606 non-null  float64\n",
            " 25  churn                           14606 non-null  int64  \n",
            "dtypes: float64(11), int64(7), object(8)\n",
            "memory usage: 2.9+ MB\n"
          ]
        }
      ],
      "source": [
        "# Client Data\n",
        "client_df.info()"
      ]
    },
    {
      "cell_type": "code",
      "execution_count": 235,
      "id": "b67f2628-351a-48ee-b8ba-88c54042af88",
      "metadata": {
        "colab": {
          "base_uri": "https://localhost:8080/"
        },
        "id": "b67f2628-351a-48ee-b8ba-88c54042af88",
        "outputId": "69605c33-845c-4d27-b64a-7fc5a11f8cd3"
      },
      "outputs": [
        {
          "output_type": "stream",
          "name": "stdout",
          "text": [
            "<class 'pandas.core.frame.DataFrame'>\n",
            "RangeIndex: 193002 entries, 0 to 193001\n",
            "Data columns (total 8 columns):\n",
            " #   Column              Non-Null Count   Dtype  \n",
            "---  ------              --------------   -----  \n",
            " 0   id                  193002 non-null  object \n",
            " 1   price_date          193002 non-null  object \n",
            " 2   price_off_peak_var  193002 non-null  float64\n",
            " 3   price_peak_var      193002 non-null  float64\n",
            " 4   price_mid_peak_var  193002 non-null  float64\n",
            " 5   price_off_peak_fix  193002 non-null  float64\n",
            " 6   price_peak_fix      193002 non-null  float64\n",
            " 7   price_mid_peak_fix  193002 non-null  float64\n",
            "dtypes: float64(6), object(2)\n",
            "memory usage: 11.8+ MB\n"
          ]
        }
      ],
      "source": [
        "# Price Data\n",
        "price_df.info()"
      ]
    },
    {
      "cell_type": "markdown",
      "source": [
        "### **Checking for Missing Values**"
      ],
      "metadata": {
        "id": "vjEtPKQybIGf"
      },
      "id": "vjEtPKQybIGf"
    },
    {
      "cell_type": "code",
      "source": [
        "client_df.isnull().sum().sum()"
      ],
      "metadata": {
        "colab": {
          "base_uri": "https://localhost:8080/"
        },
        "id": "3Xj4MGKubNUC",
        "outputId": "ae05c2eb-e037-4c2c-d4fe-a1077509827d"
      },
      "id": "3Xj4MGKubNUC",
      "execution_count": 236,
      "outputs": [
        {
          "output_type": "execute_result",
          "data": {
            "text/plain": [
              "0"
            ]
          },
          "metadata": {},
          "execution_count": 236
        }
      ]
    },
    {
      "cell_type": "code",
      "source": [
        "price_df.isnull().sum().sum()"
      ],
      "metadata": {
        "colab": {
          "base_uri": "https://localhost:8080/"
        },
        "id": "s0aWJYm8bQbV",
        "outputId": "a68b90e5-ec2d-41bb-ad39-9fc085b7edd9"
      },
      "id": "s0aWJYm8bQbV",
      "execution_count": 237,
      "outputs": [
        {
          "output_type": "execute_result",
          "data": {
            "text/plain": [
              "0"
            ]
          },
          "metadata": {},
          "execution_count": 237
        }
      ]
    },
    {
      "cell_type": "markdown",
      "source": [
        "There are no null values in both the datasets."
      ],
      "metadata": {
        "id": "1U4bxCq6bUs0"
      },
      "id": "1U4bxCq6bUs0"
    },
    {
      "cell_type": "markdown",
      "id": "3d7e80c5-ef07-47a7-908a-a081b3ebd09e",
      "metadata": {
        "id": "3d7e80c5-ef07-47a7-908a-a081b3ebd09e"
      },
      "source": [
        "### **Statistics**\n"
      ]
    },
    {
      "cell_type": "code",
      "execution_count": 238,
      "id": "60f3010c-ecaf-4b8a-bb87-93bb54cc0c7e",
      "metadata": {
        "colab": {
          "base_uri": "https://localhost:8080/",
          "height": 364
        },
        "id": "60f3010c-ecaf-4b8a-bb87-93bb54cc0c7e",
        "outputId": "521bb91a-4301-42c8-db66-7d28ba0609c4"
      },
      "outputs": [
        {
          "output_type": "execute_result",
          "data": {
            "text/plain": [
              "           cons_12m  cons_gas_12m  cons_last_month  forecast_cons_12m  \\\n",
              "count  1.460600e+04  1.460600e+04     14606.000000       14606.000000   \n",
              "mean   1.592203e+05  2.809238e+04     16090.269752        1868.614880   \n",
              "std    5.734653e+05  1.629731e+05     64364.196422        2387.571531   \n",
              "min    0.000000e+00  0.000000e+00         0.000000           0.000000   \n",
              "25%    5.674750e+03  0.000000e+00         0.000000         494.995000   \n",
              "50%    1.411550e+04  0.000000e+00       792.500000        1112.875000   \n",
              "75%    4.076375e+04  0.000000e+00      3383.000000        2401.790000   \n",
              "max    6.207104e+06  4.154590e+06    771203.000000       82902.830000   \n",
              "\n",
              "       forecast_cons_year  forecast_discount_energy  forecast_meter_rent_12m  \\\n",
              "count        14606.000000              14606.000000             14606.000000   \n",
              "mean          1399.762906                  0.966726                63.086871   \n",
              "std           3247.786255                  5.108289                66.165783   \n",
              "min              0.000000                  0.000000                 0.000000   \n",
              "25%              0.000000                  0.000000                16.180000   \n",
              "50%            314.000000                  0.000000                18.795000   \n",
              "75%           1745.750000                  0.000000               131.030000   \n",
              "max         175375.000000                 30.000000               599.310000   \n",
              "\n",
              "       forecast_price_energy_off_peak  forecast_price_energy_peak  \\\n",
              "count                    14606.000000                14606.000000   \n",
              "mean                         0.137283                    0.050491   \n",
              "std                          0.024623                    0.049037   \n",
              "min                          0.000000                    0.000000   \n",
              "25%                          0.116340                    0.000000   \n",
              "50%                          0.143166                    0.084138   \n",
              "75%                          0.146348                    0.098837   \n",
              "max                          0.273963                    0.195975   \n",
              "\n",
              "       forecast_price_pow_off_peak      imp_cons  margin_gross_pow_ele  \\\n",
              "count                 14606.000000  14606.000000          14606.000000   \n",
              "mean                     43.130056    152.786896             24.565121   \n",
              "std                       4.485988    341.369366             20.231172   \n",
              "min                       0.000000      0.000000              0.000000   \n",
              "25%                      40.606701      0.000000             14.280000   \n",
              "50%                      44.311378     37.395000             21.640000   \n",
              "75%                      44.311378    193.980000             29.880000   \n",
              "max                      59.266378  15042.790000            374.640000   \n",
              "\n",
              "       margin_net_pow_ele   nb_prod_act    net_margin  num_years_antig  \\\n",
              "count        14606.000000  14606.000000  14606.000000     14606.000000   \n",
              "mean            24.562517      1.292346    189.264522         4.997809   \n",
              "std             20.230280      0.709774    311.798130         1.611749   \n",
              "min              0.000000      1.000000      0.000000         1.000000   \n",
              "25%             14.280000      1.000000     50.712500         4.000000   \n",
              "50%             21.640000      1.000000    112.530000         5.000000   \n",
              "75%             29.880000      1.000000    243.097500         6.000000   \n",
              "max            374.640000     32.000000  24570.650000        13.000000   \n",
              "\n",
              "            pow_max         churn  \n",
              "count  14606.000000  14606.000000  \n",
              "mean      18.135136      0.097152  \n",
              "std       13.534743      0.296175  \n",
              "min        3.300000      0.000000  \n",
              "25%       12.500000      0.000000  \n",
              "50%       13.856000      0.000000  \n",
              "75%       19.172500      0.000000  \n",
              "max      320.000000      1.000000  "
            ],
            "text/html": [
              "\n",
              "  <div id=\"df-4909680c-7c6a-4ada-a88f-3d6759c08512\">\n",
              "    <div class=\"colab-df-container\">\n",
              "      <div>\n",
              "<style scoped>\n",
              "    .dataframe tbody tr th:only-of-type {\n",
              "        vertical-align: middle;\n",
              "    }\n",
              "\n",
              "    .dataframe tbody tr th {\n",
              "        vertical-align: top;\n",
              "    }\n",
              "\n",
              "    .dataframe thead th {\n",
              "        text-align: right;\n",
              "    }\n",
              "</style>\n",
              "<table border=\"1\" class=\"dataframe\">\n",
              "  <thead>\n",
              "    <tr style=\"text-align: right;\">\n",
              "      <th></th>\n",
              "      <th>cons_12m</th>\n",
              "      <th>cons_gas_12m</th>\n",
              "      <th>cons_last_month</th>\n",
              "      <th>forecast_cons_12m</th>\n",
              "      <th>forecast_cons_year</th>\n",
              "      <th>forecast_discount_energy</th>\n",
              "      <th>forecast_meter_rent_12m</th>\n",
              "      <th>forecast_price_energy_off_peak</th>\n",
              "      <th>forecast_price_energy_peak</th>\n",
              "      <th>forecast_price_pow_off_peak</th>\n",
              "      <th>imp_cons</th>\n",
              "      <th>margin_gross_pow_ele</th>\n",
              "      <th>margin_net_pow_ele</th>\n",
              "      <th>nb_prod_act</th>\n",
              "      <th>net_margin</th>\n",
              "      <th>num_years_antig</th>\n",
              "      <th>pow_max</th>\n",
              "      <th>churn</th>\n",
              "    </tr>\n",
              "  </thead>\n",
              "  <tbody>\n",
              "    <tr>\n",
              "      <th>count</th>\n",
              "      <td>1.460600e+04</td>\n",
              "      <td>1.460600e+04</td>\n",
              "      <td>14606.000000</td>\n",
              "      <td>14606.000000</td>\n",
              "      <td>14606.000000</td>\n",
              "      <td>14606.000000</td>\n",
              "      <td>14606.000000</td>\n",
              "      <td>14606.000000</td>\n",
              "      <td>14606.000000</td>\n",
              "      <td>14606.000000</td>\n",
              "      <td>14606.000000</td>\n",
              "      <td>14606.000000</td>\n",
              "      <td>14606.000000</td>\n",
              "      <td>14606.000000</td>\n",
              "      <td>14606.000000</td>\n",
              "      <td>14606.000000</td>\n",
              "      <td>14606.000000</td>\n",
              "      <td>14606.000000</td>\n",
              "    </tr>\n",
              "    <tr>\n",
              "      <th>mean</th>\n",
              "      <td>1.592203e+05</td>\n",
              "      <td>2.809238e+04</td>\n",
              "      <td>16090.269752</td>\n",
              "      <td>1868.614880</td>\n",
              "      <td>1399.762906</td>\n",
              "      <td>0.966726</td>\n",
              "      <td>63.086871</td>\n",
              "      <td>0.137283</td>\n",
              "      <td>0.050491</td>\n",
              "      <td>43.130056</td>\n",
              "      <td>152.786896</td>\n",
              "      <td>24.565121</td>\n",
              "      <td>24.562517</td>\n",
              "      <td>1.292346</td>\n",
              "      <td>189.264522</td>\n",
              "      <td>4.997809</td>\n",
              "      <td>18.135136</td>\n",
              "      <td>0.097152</td>\n",
              "    </tr>\n",
              "    <tr>\n",
              "      <th>std</th>\n",
              "      <td>5.734653e+05</td>\n",
              "      <td>1.629731e+05</td>\n",
              "      <td>64364.196422</td>\n",
              "      <td>2387.571531</td>\n",
              "      <td>3247.786255</td>\n",
              "      <td>5.108289</td>\n",
              "      <td>66.165783</td>\n",
              "      <td>0.024623</td>\n",
              "      <td>0.049037</td>\n",
              "      <td>4.485988</td>\n",
              "      <td>341.369366</td>\n",
              "      <td>20.231172</td>\n",
              "      <td>20.230280</td>\n",
              "      <td>0.709774</td>\n",
              "      <td>311.798130</td>\n",
              "      <td>1.611749</td>\n",
              "      <td>13.534743</td>\n",
              "      <td>0.296175</td>\n",
              "    </tr>\n",
              "    <tr>\n",
              "      <th>min</th>\n",
              "      <td>0.000000e+00</td>\n",
              "      <td>0.000000e+00</td>\n",
              "      <td>0.000000</td>\n",
              "      <td>0.000000</td>\n",
              "      <td>0.000000</td>\n",
              "      <td>0.000000</td>\n",
              "      <td>0.000000</td>\n",
              "      <td>0.000000</td>\n",
              "      <td>0.000000</td>\n",
              "      <td>0.000000</td>\n",
              "      <td>0.000000</td>\n",
              "      <td>0.000000</td>\n",
              "      <td>0.000000</td>\n",
              "      <td>1.000000</td>\n",
              "      <td>0.000000</td>\n",
              "      <td>1.000000</td>\n",
              "      <td>3.300000</td>\n",
              "      <td>0.000000</td>\n",
              "    </tr>\n",
              "    <tr>\n",
              "      <th>25%</th>\n",
              "      <td>5.674750e+03</td>\n",
              "      <td>0.000000e+00</td>\n",
              "      <td>0.000000</td>\n",
              "      <td>494.995000</td>\n",
              "      <td>0.000000</td>\n",
              "      <td>0.000000</td>\n",
              "      <td>16.180000</td>\n",
              "      <td>0.116340</td>\n",
              "      <td>0.000000</td>\n",
              "      <td>40.606701</td>\n",
              "      <td>0.000000</td>\n",
              "      <td>14.280000</td>\n",
              "      <td>14.280000</td>\n",
              "      <td>1.000000</td>\n",
              "      <td>50.712500</td>\n",
              "      <td>4.000000</td>\n",
              "      <td>12.500000</td>\n",
              "      <td>0.000000</td>\n",
              "    </tr>\n",
              "    <tr>\n",
              "      <th>50%</th>\n",
              "      <td>1.411550e+04</td>\n",
              "      <td>0.000000e+00</td>\n",
              "      <td>792.500000</td>\n",
              "      <td>1112.875000</td>\n",
              "      <td>314.000000</td>\n",
              "      <td>0.000000</td>\n",
              "      <td>18.795000</td>\n",
              "      <td>0.143166</td>\n",
              "      <td>0.084138</td>\n",
              "      <td>44.311378</td>\n",
              "      <td>37.395000</td>\n",
              "      <td>21.640000</td>\n",
              "      <td>21.640000</td>\n",
              "      <td>1.000000</td>\n",
              "      <td>112.530000</td>\n",
              "      <td>5.000000</td>\n",
              "      <td>13.856000</td>\n",
              "      <td>0.000000</td>\n",
              "    </tr>\n",
              "    <tr>\n",
              "      <th>75%</th>\n",
              "      <td>4.076375e+04</td>\n",
              "      <td>0.000000e+00</td>\n",
              "      <td>3383.000000</td>\n",
              "      <td>2401.790000</td>\n",
              "      <td>1745.750000</td>\n",
              "      <td>0.000000</td>\n",
              "      <td>131.030000</td>\n",
              "      <td>0.146348</td>\n",
              "      <td>0.098837</td>\n",
              "      <td>44.311378</td>\n",
              "      <td>193.980000</td>\n",
              "      <td>29.880000</td>\n",
              "      <td>29.880000</td>\n",
              "      <td>1.000000</td>\n",
              "      <td>243.097500</td>\n",
              "      <td>6.000000</td>\n",
              "      <td>19.172500</td>\n",
              "      <td>0.000000</td>\n",
              "    </tr>\n",
              "    <tr>\n",
              "      <th>max</th>\n",
              "      <td>6.207104e+06</td>\n",
              "      <td>4.154590e+06</td>\n",
              "      <td>771203.000000</td>\n",
              "      <td>82902.830000</td>\n",
              "      <td>175375.000000</td>\n",
              "      <td>30.000000</td>\n",
              "      <td>599.310000</td>\n",
              "      <td>0.273963</td>\n",
              "      <td>0.195975</td>\n",
              "      <td>59.266378</td>\n",
              "      <td>15042.790000</td>\n",
              "      <td>374.640000</td>\n",
              "      <td>374.640000</td>\n",
              "      <td>32.000000</td>\n",
              "      <td>24570.650000</td>\n",
              "      <td>13.000000</td>\n",
              "      <td>320.000000</td>\n",
              "      <td>1.000000</td>\n",
              "    </tr>\n",
              "  </tbody>\n",
              "</table>\n",
              "</div>\n",
              "      <button class=\"colab-df-convert\" onclick=\"convertToInteractive('df-4909680c-7c6a-4ada-a88f-3d6759c08512')\"\n",
              "              title=\"Convert this dataframe to an interactive table.\"\n",
              "              style=\"display:none;\">\n",
              "        \n",
              "  <svg xmlns=\"http://www.w3.org/2000/svg\" height=\"24px\"viewBox=\"0 0 24 24\"\n",
              "       width=\"24px\">\n",
              "    <path d=\"M0 0h24v24H0V0z\" fill=\"none\"/>\n",
              "    <path d=\"M18.56 5.44l.94 2.06.94-2.06 2.06-.94-2.06-.94-.94-2.06-.94 2.06-2.06.94zm-11 1L8.5 8.5l.94-2.06 2.06-.94-2.06-.94L8.5 2.5l-.94 2.06-2.06.94zm10 10l.94 2.06.94-2.06 2.06-.94-2.06-.94-.94-2.06-.94 2.06-2.06.94z\"/><path d=\"M17.41 7.96l-1.37-1.37c-.4-.4-.92-.59-1.43-.59-.52 0-1.04.2-1.43.59L10.3 9.45l-7.72 7.72c-.78.78-.78 2.05 0 2.83L4 21.41c.39.39.9.59 1.41.59.51 0 1.02-.2 1.41-.59l7.78-7.78 2.81-2.81c.8-.78.8-2.07 0-2.86zM5.41 20L4 18.59l7.72-7.72 1.47 1.35L5.41 20z\"/>\n",
              "  </svg>\n",
              "      </button>\n",
              "      \n",
              "  <style>\n",
              "    .colab-df-container {\n",
              "      display:flex;\n",
              "      flex-wrap:wrap;\n",
              "      gap: 12px;\n",
              "    }\n",
              "\n",
              "    .colab-df-convert {\n",
              "      background-color: #E8F0FE;\n",
              "      border: none;\n",
              "      border-radius: 50%;\n",
              "      cursor: pointer;\n",
              "      display: none;\n",
              "      fill: #1967D2;\n",
              "      height: 32px;\n",
              "      padding: 0 0 0 0;\n",
              "      width: 32px;\n",
              "    }\n",
              "\n",
              "    .colab-df-convert:hover {\n",
              "      background-color: #E2EBFA;\n",
              "      box-shadow: 0px 1px 2px rgba(60, 64, 67, 0.3), 0px 1px 3px 1px rgba(60, 64, 67, 0.15);\n",
              "      fill: #174EA6;\n",
              "    }\n",
              "\n",
              "    [theme=dark] .colab-df-convert {\n",
              "      background-color: #3B4455;\n",
              "      fill: #D2E3FC;\n",
              "    }\n",
              "\n",
              "    [theme=dark] .colab-df-convert:hover {\n",
              "      background-color: #434B5C;\n",
              "      box-shadow: 0px 1px 3px 1px rgba(0, 0, 0, 0.15);\n",
              "      filter: drop-shadow(0px 1px 2px rgba(0, 0, 0, 0.3));\n",
              "      fill: #FFFFFF;\n",
              "    }\n",
              "  </style>\n",
              "\n",
              "      <script>\n",
              "        const buttonEl =\n",
              "          document.querySelector('#df-4909680c-7c6a-4ada-a88f-3d6759c08512 button.colab-df-convert');\n",
              "        buttonEl.style.display =\n",
              "          google.colab.kernel.accessAllowed ? 'block' : 'none';\n",
              "\n",
              "        async function convertToInteractive(key) {\n",
              "          const element = document.querySelector('#df-4909680c-7c6a-4ada-a88f-3d6759c08512');\n",
              "          const dataTable =\n",
              "            await google.colab.kernel.invokeFunction('convertToInteractive',\n",
              "                                                     [key], {});\n",
              "          if (!dataTable) return;\n",
              "\n",
              "          const docLinkHtml = 'Like what you see? Visit the ' +\n",
              "            '<a target=\"_blank\" href=https://colab.research.google.com/notebooks/data_table.ipynb>data table notebook</a>'\n",
              "            + ' to learn more about interactive tables.';\n",
              "          element.innerHTML = '';\n",
              "          dataTable['output_type'] = 'display_data';\n",
              "          await google.colab.output.renderOutput(dataTable, element);\n",
              "          const docLink = document.createElement('div');\n",
              "          docLink.innerHTML = docLinkHtml;\n",
              "          element.appendChild(docLink);\n",
              "        }\n",
              "      </script>\n",
              "    </div>\n",
              "  </div>\n",
              "  "
            ]
          },
          "metadata": {},
          "execution_count": 238
        }
      ],
      "source": [
        "# Summary Statistics for Client DataFrame\n",
        "client_df.describe()"
      ]
    },
    {
      "cell_type": "code",
      "execution_count": 239,
      "id": "f8b442e6-e186-42f9-b3c5-c5c15cd8c82a",
      "metadata": {
        "colab": {
          "base_uri": "https://localhost:8080/",
          "height": 300
        },
        "id": "f8b442e6-e186-42f9-b3c5-c5c15cd8c82a",
        "outputId": "9c334423-43bf-4952-8b1a-8fa3891532bc"
      },
      "outputs": [
        {
          "output_type": "execute_result",
          "data": {
            "text/plain": [
              "       price_off_peak_var  price_peak_var  price_mid_peak_var  \\\n",
              "count       193002.000000   193002.000000       193002.000000   \n",
              "mean             0.141027        0.054630            0.030496   \n",
              "std              0.025032        0.049924            0.036298   \n",
              "min              0.000000        0.000000            0.000000   \n",
              "25%              0.125976        0.000000            0.000000   \n",
              "50%              0.146033        0.085483            0.000000   \n",
              "75%              0.151635        0.101673            0.072558   \n",
              "max              0.280700        0.229788            0.114102   \n",
              "\n",
              "       price_off_peak_fix  price_peak_fix  price_mid_peak_fix  \n",
              "count       193002.000000   193002.000000       193002.000000  \n",
              "mean            43.334477       10.622875            6.409984  \n",
              "std              5.410297       12.841895            7.773592  \n",
              "min              0.000000        0.000000            0.000000  \n",
              "25%             40.728885        0.000000            0.000000  \n",
              "50%             44.266930        0.000000            0.000000  \n",
              "75%             44.444710       24.339581           16.226389  \n",
              "max             59.444710       36.490692           17.458221  "
            ],
            "text/html": [
              "\n",
              "  <div id=\"df-0395eda9-f977-4b87-b0c5-427e8a845f73\">\n",
              "    <div class=\"colab-df-container\">\n",
              "      <div>\n",
              "<style scoped>\n",
              "    .dataframe tbody tr th:only-of-type {\n",
              "        vertical-align: middle;\n",
              "    }\n",
              "\n",
              "    .dataframe tbody tr th {\n",
              "        vertical-align: top;\n",
              "    }\n",
              "\n",
              "    .dataframe thead th {\n",
              "        text-align: right;\n",
              "    }\n",
              "</style>\n",
              "<table border=\"1\" class=\"dataframe\">\n",
              "  <thead>\n",
              "    <tr style=\"text-align: right;\">\n",
              "      <th></th>\n",
              "      <th>price_off_peak_var</th>\n",
              "      <th>price_peak_var</th>\n",
              "      <th>price_mid_peak_var</th>\n",
              "      <th>price_off_peak_fix</th>\n",
              "      <th>price_peak_fix</th>\n",
              "      <th>price_mid_peak_fix</th>\n",
              "    </tr>\n",
              "  </thead>\n",
              "  <tbody>\n",
              "    <tr>\n",
              "      <th>count</th>\n",
              "      <td>193002.000000</td>\n",
              "      <td>193002.000000</td>\n",
              "      <td>193002.000000</td>\n",
              "      <td>193002.000000</td>\n",
              "      <td>193002.000000</td>\n",
              "      <td>193002.000000</td>\n",
              "    </tr>\n",
              "    <tr>\n",
              "      <th>mean</th>\n",
              "      <td>0.141027</td>\n",
              "      <td>0.054630</td>\n",
              "      <td>0.030496</td>\n",
              "      <td>43.334477</td>\n",
              "      <td>10.622875</td>\n",
              "      <td>6.409984</td>\n",
              "    </tr>\n",
              "    <tr>\n",
              "      <th>std</th>\n",
              "      <td>0.025032</td>\n",
              "      <td>0.049924</td>\n",
              "      <td>0.036298</td>\n",
              "      <td>5.410297</td>\n",
              "      <td>12.841895</td>\n",
              "      <td>7.773592</td>\n",
              "    </tr>\n",
              "    <tr>\n",
              "      <th>min</th>\n",
              "      <td>0.000000</td>\n",
              "      <td>0.000000</td>\n",
              "      <td>0.000000</td>\n",
              "      <td>0.000000</td>\n",
              "      <td>0.000000</td>\n",
              "      <td>0.000000</td>\n",
              "    </tr>\n",
              "    <tr>\n",
              "      <th>25%</th>\n",
              "      <td>0.125976</td>\n",
              "      <td>0.000000</td>\n",
              "      <td>0.000000</td>\n",
              "      <td>40.728885</td>\n",
              "      <td>0.000000</td>\n",
              "      <td>0.000000</td>\n",
              "    </tr>\n",
              "    <tr>\n",
              "      <th>50%</th>\n",
              "      <td>0.146033</td>\n",
              "      <td>0.085483</td>\n",
              "      <td>0.000000</td>\n",
              "      <td>44.266930</td>\n",
              "      <td>0.000000</td>\n",
              "      <td>0.000000</td>\n",
              "    </tr>\n",
              "    <tr>\n",
              "      <th>75%</th>\n",
              "      <td>0.151635</td>\n",
              "      <td>0.101673</td>\n",
              "      <td>0.072558</td>\n",
              "      <td>44.444710</td>\n",
              "      <td>24.339581</td>\n",
              "      <td>16.226389</td>\n",
              "    </tr>\n",
              "    <tr>\n",
              "      <th>max</th>\n",
              "      <td>0.280700</td>\n",
              "      <td>0.229788</td>\n",
              "      <td>0.114102</td>\n",
              "      <td>59.444710</td>\n",
              "      <td>36.490692</td>\n",
              "      <td>17.458221</td>\n",
              "    </tr>\n",
              "  </tbody>\n",
              "</table>\n",
              "</div>\n",
              "      <button class=\"colab-df-convert\" onclick=\"convertToInteractive('df-0395eda9-f977-4b87-b0c5-427e8a845f73')\"\n",
              "              title=\"Convert this dataframe to an interactive table.\"\n",
              "              style=\"display:none;\">\n",
              "        \n",
              "  <svg xmlns=\"http://www.w3.org/2000/svg\" height=\"24px\"viewBox=\"0 0 24 24\"\n",
              "       width=\"24px\">\n",
              "    <path d=\"M0 0h24v24H0V0z\" fill=\"none\"/>\n",
              "    <path d=\"M18.56 5.44l.94 2.06.94-2.06 2.06-.94-2.06-.94-.94-2.06-.94 2.06-2.06.94zm-11 1L8.5 8.5l.94-2.06 2.06-.94-2.06-.94L8.5 2.5l-.94 2.06-2.06.94zm10 10l.94 2.06.94-2.06 2.06-.94-2.06-.94-.94-2.06-.94 2.06-2.06.94z\"/><path d=\"M17.41 7.96l-1.37-1.37c-.4-.4-.92-.59-1.43-.59-.52 0-1.04.2-1.43.59L10.3 9.45l-7.72 7.72c-.78.78-.78 2.05 0 2.83L4 21.41c.39.39.9.59 1.41.59.51 0 1.02-.2 1.41-.59l7.78-7.78 2.81-2.81c.8-.78.8-2.07 0-2.86zM5.41 20L4 18.59l7.72-7.72 1.47 1.35L5.41 20z\"/>\n",
              "  </svg>\n",
              "      </button>\n",
              "      \n",
              "  <style>\n",
              "    .colab-df-container {\n",
              "      display:flex;\n",
              "      flex-wrap:wrap;\n",
              "      gap: 12px;\n",
              "    }\n",
              "\n",
              "    .colab-df-convert {\n",
              "      background-color: #E8F0FE;\n",
              "      border: none;\n",
              "      border-radius: 50%;\n",
              "      cursor: pointer;\n",
              "      display: none;\n",
              "      fill: #1967D2;\n",
              "      height: 32px;\n",
              "      padding: 0 0 0 0;\n",
              "      width: 32px;\n",
              "    }\n",
              "\n",
              "    .colab-df-convert:hover {\n",
              "      background-color: #E2EBFA;\n",
              "      box-shadow: 0px 1px 2px rgba(60, 64, 67, 0.3), 0px 1px 3px 1px rgba(60, 64, 67, 0.15);\n",
              "      fill: #174EA6;\n",
              "    }\n",
              "\n",
              "    [theme=dark] .colab-df-convert {\n",
              "      background-color: #3B4455;\n",
              "      fill: #D2E3FC;\n",
              "    }\n",
              "\n",
              "    [theme=dark] .colab-df-convert:hover {\n",
              "      background-color: #434B5C;\n",
              "      box-shadow: 0px 1px 3px 1px rgba(0, 0, 0, 0.15);\n",
              "      filter: drop-shadow(0px 1px 2px rgba(0, 0, 0, 0.3));\n",
              "      fill: #FFFFFF;\n",
              "    }\n",
              "  </style>\n",
              "\n",
              "      <script>\n",
              "        const buttonEl =\n",
              "          document.querySelector('#df-0395eda9-f977-4b87-b0c5-427e8a845f73 button.colab-df-convert');\n",
              "        buttonEl.style.display =\n",
              "          google.colab.kernel.accessAllowed ? 'block' : 'none';\n",
              "\n",
              "        async function convertToInteractive(key) {\n",
              "          const element = document.querySelector('#df-0395eda9-f977-4b87-b0c5-427e8a845f73');\n",
              "          const dataTable =\n",
              "            await google.colab.kernel.invokeFunction('convertToInteractive',\n",
              "                                                     [key], {});\n",
              "          if (!dataTable) return;\n",
              "\n",
              "          const docLinkHtml = 'Like what you see? Visit the ' +\n",
              "            '<a target=\"_blank\" href=https://colab.research.google.com/notebooks/data_table.ipynb>data table notebook</a>'\n",
              "            + ' to learn more about interactive tables.';\n",
              "          element.innerHTML = '';\n",
              "          dataTable['output_type'] = 'display_data';\n",
              "          await google.colab.output.renderOutput(dataTable, element);\n",
              "          const docLink = document.createElement('div');\n",
              "          docLink.innerHTML = docLinkHtml;\n",
              "          element.appendChild(docLink);\n",
              "        }\n",
              "      </script>\n",
              "    </div>\n",
              "  </div>\n",
              "  "
            ]
          },
          "metadata": {},
          "execution_count": 239
        }
      ],
      "source": [
        "# Summary Statistics for Price DataFrame\n",
        "price_df.describe()"
      ]
    },
    {
      "cell_type": "markdown",
      "id": "6a7a8879-c483-4464-9057-c70e6b150e53",
      "metadata": {
        "id": "6a7a8879-c483-4464-9057-c70e6b150e53"
      },
      "source": [
        "---\n",
        "\n",
        "## **Visualizing the Data**\n"
      ]
    },
    {
      "cell_type": "markdown",
      "source": [
        "### **Distribution of Electricity Consumption for Past 12 months**"
      ],
      "metadata": {
        "id": "O3yARm_kc0g7"
      },
      "id": "O3yARm_kc0g7"
    },
    {
      "cell_type": "code",
      "source": [
        "sns.histplot(client_df['cons_12m'],color='blue')\n",
        "plt.xlim(0,250000)\n",
        "plt.xlabel(\"\\nElectricity Consumption - Past 12 months\")\n",
        "plt.ylabel(\"Number of Customers\")\n",
        "plt.title(\"Distribution of Electricity Consumption for Past 12 months\")\n",
        "plt.show()"
      ],
      "metadata": {
        "colab": {
          "base_uri": "https://localhost:8080/",
          "height": 316
        },
        "id": "O_vI5Cavc-50",
        "outputId": "ac7fdd3e-8f56-4b83-d96e-19362e02cbea"
      },
      "id": "O_vI5Cavc-50",
      "execution_count": 240,
      "outputs": [
        {
          "output_type": "display_data",
          "data": {
            "text/plain": [
              "<Figure size 432x288 with 1 Axes>"
            ],
            "image/png": "[encoded data removed]"
          },
          "metadata": {}
        }
      ]
    },
    {
      "cell_type": "markdown",
      "source": [
        "The distribution is righ-skewed. Majority of the clients have a total consumption of less than 100000 in the last 12 months."
      ],
      "metadata": {
        "id": "H-29E-H_eaBv"
      },
      "id": "H-29E-H_eaBv"
    },
    {
      "cell_type": "markdown",
      "source": [
        "### **Box Plots for Electricity Consumption (last 12 months) for Customers who have churned vs Customers who have not Churned**"
      ],
      "metadata": {
        "id": "J7khsiXMexTy"
      },
      "id": "J7khsiXMexTy"
    },
    {
      "cell_type": "code",
      "source": [
        "# Setting Color Palette\n",
        "sns.set_palette(\"Set1\")"
      ],
      "metadata": {
        "id": "u3Fli6nri9pS"
      },
      "id": "u3Fli6nri9pS",
      "execution_count": 241,
      "outputs": []
    },
    {
      "cell_type": "code",
      "source": [
        "sns.boxplot(client_df,x='churn',y='cons_12m',hue=\"churn\")\n",
        "plt.ylim(0,100000)\n",
        "plt.xlabel(\"Churn\")\n",
        "plt.ylabel(\"Electricity Consumption in last 12 Months\")\n",
        "plt.title(\"\\nBox Plots showing Electricity Consumption for Clients who have churned vs Clients who have not Churned\\n\\n\")\n",
        "plt.show()"
      ],
      "metadata": {
        "colab": {
          "base_uri": "https://localhost:8080/",
          "height": 346
        },
        "id": "NsTxfVHvdj9Z",
        "outputId": "00b36c38-8a71-48a3-e624-ca56c2d02e53"
      },
      "id": "NsTxfVHvdj9Z",
      "execution_count": 242,
      "outputs": [
        {
          "output_type": "display_data",
          "data": {
            "text/plain": [
              "<Figure size 432x288 with 1 Axes>"
            ],
            "image/png": "[encoded data removed]"
          },
          "metadata": {}
        }
      ]
    },
    {
      "cell_type": "markdown",
      "source": [
        "The median value of Electricity Consumption (last 12 months) is almost similar for both clients who have churned and clients who have not churned."
      ],
      "metadata": {
        "id": "YyCB4-_Ug-3z"
      },
      "id": "YyCB4-_Ug-3z"
    },
    {
      "cell_type": "markdown",
      "source": [
        "### **Box Plots for Current Paid Consumption for Customers who have churned vs Customers who have not Churned**"
      ],
      "metadata": {
        "id": "Y8y7mPr9hdTf"
      },
      "id": "Y8y7mPr9hdTf"
    },
    {
      "cell_type": "code",
      "source": [
        "# Setting Color Palette\n",
        "sns.set_palette(\"Set2\")\n",
        "sns.boxplot(client_df,x='churn',y='pow_max',hue=\"churn\")\n",
        "plt.ylim(0,30)\n",
        "plt.xlabel(\"Churn\")\n",
        "plt.ylabel(\"Current Paid Consumption\")\n",
        "plt.title(\"\\nBox Plots showing Current Paid Consumption for Clients who have churned vs Clients who have not Churned\\n\\n\")\n",
        "plt.show()"
      ],
      "metadata": {
        "colab": {
          "base_uri": "https://localhost:8080/",
          "height": 346
        },
        "id": "MDKXDTryhqeb",
        "outputId": "fcbbdc2a-39fe-4c57-f856-1b9569fb38f1"
      },
      "id": "MDKXDTryhqeb",
      "execution_count": 243,
      "outputs": [
        {
          "output_type": "display_data",
          "data": {
            "text/plain": [
              "<Figure size 432x288 with 1 Axes>"
            ],
            "image/png": "[encoded data removed]"
          },
          "metadata": {}
        }
      ]
    },
    {
      "cell_type": "markdown",
      "source": [
        "The median value for Current Paid Consumption is slightly higher for Customers who have churned vs Customers who have not churned."
      ],
      "metadata": {
        "id": "ps5bncjMkkgH"
      },
      "id": "ps5bncjMkkgH"
    },
    {
      "cell_type": "markdown",
      "source": [
        "### **Scatterplot for Number of Active Products and Services vs Antiquity of Clients (in years)**"
      ],
      "metadata": {
        "id": "NNvcpAIKnj5R"
      },
      "id": "NNvcpAIKnj5R"
    },
    {
      "cell_type": "code",
      "source": [
        "sns.scatterplot(client_df,x='nb_prod_act',y='num_years_antig',color='orange')\n",
        "plt.title(\"\\nScatterplot for Number of Active Products and Services vs Antiquity of Clients (in years)\\n\")\n",
        "plt.xlabel(\"Number of Active Products and Services\")\n",
        "plt.ylabel(\"Antiquity of Clients (in years)\")\n",
        "plt.show()"
      ],
      "metadata": {
        "colab": {
          "base_uri": "https://localhost:8080/",
          "height": 331
        },
        "id": "BFQSy0X9qAY_",
        "outputId": "cc8c5d19-68c1-4204-fa54-d43f8b0eb694"
      },
      "id": "BFQSy0X9qAY_",
      "execution_count": 244,
      "outputs": [
        {
          "output_type": "display_data",
          "data": {
            "text/plain": [
              "<Figure size 432x288 with 1 Axes>"
            ],
            "image/png": "[encoded data removed]"
          },
          "metadata": {}
        }
      ]
    },
    {
      "cell_type": "markdown",
      "source": [
        "Clients who have been associated with PowerCo for more than 7 years mostly have less than 5 Active Products and Services."
      ],
      "metadata": {
        "id": "yStDVNpLsI9w"
      },
      "id": "yStDVNpLsI9w"
    },
    {
      "cell_type": "markdown",
      "source": [
        "### **Scatterplot for Net Margin on Power Subscription vs Subscribed Power**"
      ],
      "metadata": {
        "id": "TGaliK0Hs7EQ"
      },
      "id": "TGaliK0Hs7EQ"
    },
    {
      "cell_type": "code",
      "source": [
        "sns.scatterplot(client_df,x='pow_max',y='margin_net_pow_ele',color='grey')\n",
        "plt.title(\"\\nScatterplot for Net Margin on Power Subscription vs Subscribed Power)\\n\")\n",
        "plt.xlabel(\"Subscribed Power\")\n",
        "plt.ylabel(\"Net Margin on Power Subscription\")\n",
        "plt.show()"
      ],
      "metadata": {
        "colab": {
          "base_uri": "https://localhost:8080/",
          "height": 331
        },
        "id": "RZjhKObXtBXm",
        "outputId": "e0a196f2-9c04-451c-f64e-6cf174dfea99"
      },
      "id": "RZjhKObXtBXm",
      "execution_count": 245,
      "outputs": [
        {
          "output_type": "display_data",
          "data": {
            "text/plain": [
              "<Figure size 432x288 with 1 Axes>"
            ],
            "image/png": "[encoded data removed]"
          },
          "metadata": {}
        }
      ]
    },
    {
      "cell_type": "markdown",
      "source": [
        "There is a positive correlation between Subscribed Power and Net Margin."
      ],
      "metadata": {
        "id": "CIW4LkYGuID8"
      },
      "id": "CIW4LkYGuID8"
    },
    {
      "cell_type": "markdown",
      "source": [
        "### **Correlation Heat Map**"
      ],
      "metadata": {
        "id": "JhOMKe06MNy9"
      },
      "id": "JhOMKe06MNy9"
    },
    {
      "cell_type": "code",
      "source": [
        "# Creating a Subset of the DataFrame\n",
        "df_corr=client_df[['cons_12m','cons_gas_12m','forecast_cons_12m','forecast_price_energy_peak','imp_cons','net_margin','num_years_antig','pow_max']]\n",
        "\n",
        "# Creating Correlation Matrix\n",
        "corr=df_corr.corr()\n",
        "\n",
        "# Plotting heatmap\n",
        "plt.figure(figsize=(10, 10))\n",
        "sns.heatmap(corr, annot=True, cmap='coolwarm')"
      ],
      "metadata": {
        "colab": {
          "base_uri": "https://localhost:8080/",
          "height": 760
        },
        "id": "YzeXwFl6LnBQ",
        "outputId": "49b4609a-7b99-4648-a65c-af1ccf8d932e"
      },
      "id": "YzeXwFl6LnBQ",
      "execution_count": 246,
      "outputs": [
        {
          "output_type": "execute_result",
          "data": {
            "text/plain": [
              "<Axes: >"
            ]
          },
          "metadata": {},
          "execution_count": 246
        },
        {
          "output_type": "display_data",
          "data": {
            "text/plain": [
              "<Figure size 720x720 with 2 Axes>"
            ],
            "image/png": "[encoded data removed]"
          },
          "metadata": {}
        }
      ]
    },
    {
      "cell_type": "markdown",
      "source": [
        "There exists a strong positive correlation between Total Net Margin and Forecasted Electricity Consumption for next 12 months.\n"
      ],
      "metadata": {
        "id": "GHLzPws7QBa9"
      },
      "id": "GHLzPws7QBa9"
    },
    {
      "cell_type": "markdown",
      "source": [
        "### **Contingency Tables**"
      ],
      "metadata": {
        "id": "KFCpbK1iQW4b"
      },
      "id": "KFCpbK1iQW4b"
    },
    {
      "cell_type": "code",
      "source": [
        "# Creating Contingency Table 1\n",
        "cont_table = pd.crosstab(client_df['has_gas'], client_df['churn'])\n",
        "df=pd.DataFrame(cont_table)\n",
        "df.columns=[\"Not_Churned\",\"Churned\"]\n",
        "df[\"Percentage_Churned\"]=(df['Churned']/df['Not_Churned'])*100\n",
        "df"
      ],
      "metadata": {
        "colab": {
          "base_uri": "https://localhost:8080/",
          "height": 143
        },
        "id": "AZI3KHkHNFN1",
        "outputId": "3d1e3721-c5f4-491b-d3aa-3454afafd77a"
      },
      "id": "AZI3KHkHNFN1",
      "execution_count": 247,
      "outputs": [
        {
          "output_type": "execute_result",
          "data": {
            "text/plain": [
              "         Not_Churned  Churned  Percentage_Churned\n",
              "has_gas                                          \n",
              "f              10753     1202           11.178276\n",
              "t               2434      217            8.915366"
            ],
            "text/html": [
              "\n",
              "  <div id=\"df-17acbdae-e48f-40f1-bc05-018147101363\">\n",
              "    <div class=\"colab-df-container\">\n",
              "      <div>\n",
              "<style scoped>\n",
              "    .dataframe tbody tr th:only-of-type {\n",
              "        vertical-align: middle;\n",
              "    }\n",
              "\n",
              "    .dataframe tbody tr th {\n",
              "        vertical-align: top;\n",
              "    }\n",
              "\n",
              "    .dataframe thead th {\n",
              "        text-align: right;\n",
              "    }\n",
              "</style>\n",
              "<table border=\"1\" class=\"dataframe\">\n",
              "  <thead>\n",
              "    <tr style=\"text-align: right;\">\n",
              "      <th></th>\n",
              "      <th>Not_Churned</th>\n",
              "      <th>Churned</th>\n",
              "      <th>Percentage_Churned</th>\n",
              "    </tr>\n",
              "    <tr>\n",
              "      <th>has_gas</th>\n",
              "      <th></th>\n",
              "      <th></th>\n",
              "      <th></th>\n",
              "    </tr>\n",
              "  </thead>\n",
              "  <tbody>\n",
              "    <tr>\n",
              "      <th>f</th>\n",
              "      <td>10753</td>\n",
              "      <td>1202</td>\n",
              "      <td>11.178276</td>\n",
              "    </tr>\n",
              "    <tr>\n",
              "      <th>t</th>\n",
              "      <td>2434</td>\n",
              "      <td>217</td>\n",
              "      <td>8.915366</td>\n",
              "    </tr>\n",
              "  </tbody>\n",
              "</table>\n",
              "</div>\n",
              "      <button class=\"colab-df-convert\" onclick=\"convertToInteractive('df-17acbdae-e48f-40f1-bc05-018147101363')\"\n",
              "              title=\"Convert this dataframe to an interactive table.\"\n",
              "              style=\"display:none;\">\n",
              "        \n",
              "  <svg xmlns=\"http://www.w3.org/2000/svg\" height=\"24px\"viewBox=\"0 0 24 24\"\n",
              "       width=\"24px\">\n",
              "    <path d=\"M0 0h24v24H0V0z\" fill=\"none\"/>\n",
              "    <path d=\"M18.56 5.44l.94 2.06.94-2.06 2.06-.94-2.06-.94-.94-2.06-.94 2.06-2.06.94zm-11 1L8.5 8.5l.94-2.06 2.06-.94-2.06-.94L8.5 2.5l-.94 2.06-2.06.94zm10 10l.94 2.06.94-2.06 2.06-.94-2.06-.94-.94-2.06-.94 2.06-2.06.94z\"/><path d=\"M17.41 7.96l-1.37-1.37c-.4-.4-.92-.59-1.43-.59-.52 0-1.04.2-1.43.59L10.3 9.45l-7.72 7.72c-.78.78-.78 2.05 0 2.83L4 21.41c.39.39.9.59 1.41.59.51 0 1.02-.2 1.41-.59l7.78-7.78 2.81-2.81c.8-.78.8-2.07 0-2.86zM5.41 20L4 18.59l7.72-7.72 1.47 1.35L5.41 20z\"/>\n",
              "  </svg>\n",
              "      </button>\n",
              "      \n",
              "  <style>\n",
              "    .colab-df-container {\n",
              "      display:flex;\n",
              "      flex-wrap:wrap;\n",
              "      gap: 12px;\n",
              "    }\n",
              "\n",
              "    .colab-df-convert {\n",
              "      background-color: #E8F0FE;\n",
              "      border: none;\n",
              "      border-radius: 50%;\n",
              "      cursor: pointer;\n",
              "      display: none;\n",
              "      fill: #1967D2;\n",
              "      height: 32px;\n",
              "      padding: 0 0 0 0;\n",
              "      width: 32px;\n",
              "    }\n",
              "\n",
              "    .colab-df-convert:hover {\n",
              "      background-color: #E2EBFA;\n",
              "      box-shadow: 0px 1px 2px rgba(60, 64, 67, 0.3), 0px 1px 3px 1px rgba(60, 64, 67, 0.15);\n",
              "      fill: #174EA6;\n",
              "    }\n",
              "\n",
              "    [theme=dark] .colab-df-convert {\n",
              "      background-color: #3B4455;\n",
              "      fill: #D2E3FC;\n",
              "    }\n",
              "\n",
              "    [theme=dark] .colab-df-convert:hover {\n",
              "      background-color: #434B5C;\n",
              "      box-shadow: 0px 1px 3px 1px rgba(0, 0, 0, 0.15);\n",
              "      filter: drop-shadow(0px 1px 2px rgba(0, 0, 0, 0.3));\n",
              "      fill: #FFFFFF;\n",
              "    }\n",
              "  </style>\n",
              "\n",
              "      <script>\n",
              "        const buttonEl =\n",
              "          document.querySelector('#df-17acbdae-e48f-40f1-bc05-018147101363 button.colab-df-convert');\n",
              "        buttonEl.style.display =\n",
              "          google.colab.kernel.accessAllowed ? 'block' : 'none';\n",
              "\n",
              "        async function convertToInteractive(key) {\n",
              "          const element = document.querySelector('#df-17acbdae-e48f-40f1-bc05-018147101363');\n",
              "          const dataTable =\n",
              "            await google.colab.kernel.invokeFunction('convertToInteractive',\n",
              "                                                     [key], {});\n",
              "          if (!dataTable) return;\n",
              "\n",
              "          const docLinkHtml = 'Like what you see? Visit the ' +\n",
              "            '<a target=\"_blank\" href=https://colab.research.google.com/notebooks/data_table.ipynb>data table notebook</a>'\n",
              "            + ' to learn more about interactive tables.';\n",
              "          element.innerHTML = '';\n",
              "          dataTable['output_type'] = 'display_data';\n",
              "          await google.colab.output.renderOutput(dataTable, element);\n",
              "          const docLink = document.createElement('div');\n",
              "          docLink.innerHTML = docLinkHtml;\n",
              "          element.appendChild(docLink);\n",
              "        }\n",
              "      </script>\n",
              "    </div>\n",
              "  </div>\n",
              "  "
            ]
          },
          "metadata": {},
          "execution_count": 247
        }
      ]
    },
    {
      "cell_type": "markdown",
      "source": [
        "Among the clients who are also gas clients, the percentage of clients churned is smaller."
      ],
      "metadata": {
        "id": "dH9LjT1hRqoF"
      },
      "id": "dH9LjT1hRqoF"
    },
    {
      "cell_type": "code",
      "source": [
        "# Creating Contingency Table 2\n",
        "cont_table = pd.crosstab(client_df['num_years_antig'], client_df['churn'])\n",
        "df=pd.DataFrame(cont_table)\n",
        "df.columns=[\"Not_Churned\",\"Churned\"]\n",
        "df[\"Percentage_Churned\"]=(df['Churned']/df['Not_Churned'])*100"
      ],
      "metadata": {
        "id": "P4dXnXx3a4mN"
      },
      "id": "P4dXnXx3a4mN",
      "execution_count": 248,
      "outputs": []
    },
    {
      "cell_type": "code",
      "source": [
        "# Barplot for Antiquity of Clients vs Percentage of Clients Churned\n",
        "sns.barplot(df,x=df.index,y=\"Percentage_Churned\")\n",
        "plt.xlabel(\"Antiquity of Clients (in years)\")\n",
        "plt.ylabel(\"Percentage of Clients Churned\")\n",
        "plt.title(\"Barplot for Antiquity of Clients vs Percentage of Clients Churned\")\n",
        "plt.show()"
      ],
      "metadata": {
        "colab": {
          "base_uri": "https://localhost:8080/",
          "height": 301
        },
        "id": "aMBPX5_WbOvF",
        "outputId": "1714dbd9-1e61-488e-cbaf-1691158b55fd"
      },
      "id": "aMBPX5_WbOvF",
      "execution_count": 249,
      "outputs": [
        {
          "output_type": "display_data",
          "data": {
            "text/plain": [
              "<Figure size 432x288 with 1 Axes>"
            ],
            "image/png": "[encoded data removed]"
          },
          "metadata": {}
        }
      ]
    },
    {
      "cell_type": "markdown",
      "source": [
        "The highest percentage of churn is observed among clients who have maintained their association with PowerCo for a period of 2 years."
      ],
      "metadata": {
        "id": "lHvv__dHcQEj"
      },
      "id": "lHvv__dHcQEj"
    },
    {
      "cell_type": "markdown",
      "source": [
        "---\n",
        "\n",
        "## **Hypothesis Investigation**\n"
      ],
      "metadata": {
        "id": "BvZ8EgV8c2I5"
      },
      "id": "BvZ8EgV8c2I5"
    },
    {
      "cell_type": "markdown",
      "source": [
        "Our investigation will focus on determining whether price sensitivity has any impact on churn."
      ],
      "metadata": {
        "id": "0JUx6zmlfMHQ"
      },
      "id": "0JUx6zmlfMHQ"
    },
    {
      "cell_type": "code",
      "source": [
        "# Transforming date columns to datetime type\n",
        "client_df[\"date_activ\"] = pd.to_datetime(client_df[\"date_activ\"],format='%Y-%m-%d')\n",
        "client_df[\"date_end\"] = pd.to_datetime(client_df[\"date_end\"],format='%Y-%m-%d')\n",
        "client_df[\"date_modif_prod\"] = pd.to_datetime(client_df[\"date_modif_prod\"],format='%Y-%m-%d')\n",
        "client_df[\"date_renewal\"] = pd.to_datetime(client_df[\"date_renewal\"],format='%Y-%m-%d')\n",
        "price_df['price_date'] = pd.to_datetime(price_df['price_date'],format='%Y-%m-%d')"
      ],
      "metadata": {
        "id": "n3sShf-kc4jr"
      },
      "id": "n3sShf-kc4jr",
      "execution_count": 250,
      "outputs": []
    },
    {
      "cell_type": "code",
      "source": [
        "# Creating Sensitivity Features\n",
        "\n",
        "# Yearly\n",
        "var_year = price_df.groupby(['id', 'price_date']).mean().groupby(['id']).var().reset_index()\n",
        "\n",
        "# Last 6 months\n",
        "price_df_6m=price_df[price_df['price_date'] > '2015-06-01']\n",
        "var_6m =price_df_6m.groupby(['id', 'price_date']).mean().groupby(['id']).var().reset_index()"
      ],
      "metadata": {
        "id": "CszDewM4fw5L"
      },
      "id": "CszDewM4fw5L",
      "execution_count": 251,
      "outputs": []
    },
    {
      "cell_type": "code",
      "source": [
        "# Renaming olumns\n",
        "var_year = var_year.rename(\n",
        "columns={\n",
        "\"price_off_peak_var\": \"var_year_price_off_peak_var\",\n",
        "\"price_peak_var\": \"var_year_price_peak_var\",\n",
        "\"price_mid_peak_var\": \"var_year_price_mid_peak_var\",\n",
        "\"price_off_peak_fix\": \"var_year_price_off_peak_fix\",\n",
        "\"price_peak_fix\": \"var_year_price_peak_fix\",\n",
        "\"price_mid_peak_fix\": \"var_year_price_mid_peak_fix\"\n",
        "}\n",
        ")"
      ],
      "metadata": {
        "id": "9xdtaIGZgTKP"
      },
      "id": "9xdtaIGZgTKP",
      "execution_count": 252,
      "outputs": []
    },
    {
      "cell_type": "code",
      "source": [
        "# Renaming olumns\n",
        "var_6m = var_6m.rename(\n",
        "columns={\n",
        "\"price_off_peak_var\": \"var_6m_price_off_peak_var\",\n",
        "\"price_peak_var\": \"var_6m_price_peak_var\",\n",
        "\"price_mid_peak_var\": \"var_6m_price_mid_peak_var\",\n",
        "\"price_off_peak_fix\": \"var_6m_price_off_peak_fix\",\n",
        "\"price_peak_fix\": \"var_6m_price_peak_fix\",\n",
        "\"price_mid_peak_fix\": \"var_6m_price_mid_peak_fix\"\n",
        "}\n",
        ")"
      ],
      "metadata": {
        "id": "rOdnUTIUjBmD"
      },
      "id": "rOdnUTIUjBmD",
      "execution_count": 253,
      "outputs": []
    },
    {
      "cell_type": "code",
      "source": [
        "# Adding New Variables\n",
        "var_year[\"var_year_price_off_peak\"] = var_year[\"var_year_price_off_peak_var\"] + var_year[\"var_year_price_off_peak_fix\"]\n",
        "var_year[\"var_year_price_peak\"] = var_year[\"var_year_price_peak_var\"] + var_year[\"var_year_price_peak_fix\"]\n",
        "var_year[\"var_year_price_mid_peak\"] = var_year[\"var_year_price_mid_peak_var\"] + var_year[\"var_year_price_mid_peak_fix\"]"
      ],
      "metadata": {
        "id": "kRHh75vHhMSI"
      },
      "id": "kRHh75vHhMSI",
      "execution_count": 254,
      "outputs": []
    },
    {
      "cell_type": "code",
      "source": [
        "# Adding New Variables\n",
        "var_6m[\"var_6m_price_off_peak\"] = var_6m[\"var_6m_price_off_peak_var\"] + var_6m[\"var_6m_price_off_peak_fix\"]\n",
        "var_6m[\"var_6m_price_peak\"] = var_6m[\"var_6m_price_peak_var\"] + var_6m[\"var_6m_price_peak_fix\"]\n",
        "var_6m[\"var_6m_price_mid_peak\"] = var_6m[\"var_6m_price_mid_peak_var\"] + var_6m[\"var_6m_price_mid_peak_fix\"]"
      ],
      "metadata": {
        "id": "f6iEAwFhjo5e"
      },
      "id": "f6iEAwFhjo5e",
      "execution_count": 255,
      "outputs": []
    },
    {
      "cell_type": "code",
      "source": [
        "# Merging DataFrames\n",
        "price=pd.merge(var_year, var_6m, on='id')\n",
        "\n",
        "# Printing the First 5 rows of the DataFrame\n",
        "price.head()"
      ],
      "metadata": {
        "colab": {
          "base_uri": "https://localhost:8080/",
          "height": 270
        },
        "id": "BbfFWjRkj6zt",
        "outputId": "a9278593-e44a-45fd-c80b-f1afd708ddfc"
      },
      "id": "BbfFWjRkj6zt",
      "execution_count": 256,
      "outputs": [
        {
          "output_type": "execute_result",
          "data": {
            "text/plain": [
              "                                 id  var_year_price_off_peak_var  \\\n",
              "0  0002203ffbb812588b632b9e628cc38d                     0.000016   \n",
              "1  0004351ebdd665e6ee664792efc4fd13                     0.000005   \n",
              "2  0010bcc39e42b3c2131ed2ce55246e3c                     0.000676   \n",
              "3  0010ee3855fdea87602a5b7aba8e42de                     0.000025   \n",
              "4  00114d74e963e47177db89bc70108537                     0.000005   \n",
              "\n",
              "   var_year_price_peak_var  var_year_price_mid_peak_var  \\\n",
              "0                 0.000004                 1.871602e-06   \n",
              "1                 0.000000                 0.000000e+00   \n",
              "2                 0.000000                 0.000000e+00   \n",
              "3                 0.000007                 1.627620e-07   \n",
              "4                 0.000000                 0.000000e+00   \n",
              "\n",
              "   var_year_price_off_peak_fix  var_year_price_peak_fix  \\\n",
              "0                 4.021438e-03                 0.001448   \n",
              "1                 7.661891e-03                 0.000000   \n",
              "2                 5.965909e-01                 0.000000   \n",
              "3                 7.238536e-03                 0.002606   \n",
              "4                 3.490909e-13                 0.000000   \n",
              "\n",
              "   var_year_price_mid_peak_fix  var_year_price_off_peak  var_year_price_peak  \\\n",
              "0                     0.000643                 0.004037             0.001452   \n",
              "1                     0.000000                 0.007667             0.000000   \n",
              "2                     0.000000                 0.597267             0.000000   \n",
              "3                     0.001158                 0.007264             0.002613   \n",
              "4                     0.000000                 0.000005             0.000000   \n",
              "\n",
              "   var_year_price_mid_peak  var_6m_price_off_peak_var  var_6m_price_peak_var  \\\n",
              "0                 0.000645                   0.000011               0.000003   \n",
              "1                 0.000000                   0.000003               0.000000   \n",
              "2                 0.000000                   0.000003               0.000000   \n",
              "3                 0.001158                   0.000011               0.000003   \n",
              "4                 0.000000                   0.000003               0.000000   \n",
              "\n",
              "   var_6m_price_mid_peak_var  var_6m_price_off_peak_fix  \\\n",
              "0               4.860000e-10                        0.0   \n",
              "1               0.000000e+00                        0.0   \n",
              "2               0.000000e+00                        0.0   \n",
              "3               4.860000e-10                        0.0   \n",
              "4               0.000000e+00                        0.0   \n",
              "\n",
              "   var_6m_price_peak_fix  var_6m_price_mid_peak_fix  var_6m_price_off_peak  \\\n",
              "0                    0.0                        0.0               0.000011   \n",
              "1                    0.0                        0.0               0.000003   \n",
              "2                    0.0                        0.0               0.000003   \n",
              "3                    0.0                        0.0               0.000011   \n",
              "4                    0.0                        0.0               0.000003   \n",
              "\n",
              "   var_6m_price_peak  var_6m_price_mid_peak  \n",
              "0           0.000003           4.860000e-10  \n",
              "1           0.000000           0.000000e+00  \n",
              "2           0.000000           0.000000e+00  \n",
              "3           0.000003           4.860000e-10  \n",
              "4           0.000000           0.000000e+00  "
            ],
            "text/html": [
              "\n",
              "  <div id=\"df-e84517da-ebee-448c-9485-c3e6f9c646b7\">\n",
              "    <div class=\"colab-df-container\">\n",
              "      <div>\n",
              "<style scoped>\n",
              "    .dataframe tbody tr th:only-of-type {\n",
              "        vertical-align: middle;\n",
              "    }\n",
              "\n",
              "    .dataframe tbody tr th {\n",
              "        vertical-align: top;\n",
              "    }\n",
              "\n",
              "    .dataframe thead th {\n",
              "        text-align: right;\n",
              "    }\n",
              "</style>\n",
              "<table border=\"1\" class=\"dataframe\">\n",
              "  <thead>\n",
              "    <tr style=\"text-align: right;\">\n",
              "      <th></th>\n",
              "      <th>id</th>\n",
              "      <th>var_year_price_off_peak_var</th>\n",
              "      <th>var_year_price_peak_var</th>\n",
              "      <th>var_year_price_mid_peak_var</th>\n",
              "      <th>var_year_price_off_peak_fix</th>\n",
              "      <th>var_year_price_peak_fix</th>\n",
              "      <th>var_year_price_mid_peak_fix</th>\n",
              "      <th>var_year_price_off_peak</th>\n",
              "      <th>var_year_price_peak</th>\n",
              "      <th>var_year_price_mid_peak</th>\n",
              "      <th>var_6m_price_off_peak_var</th>\n",
              "      <th>var_6m_price_peak_var</th>\n",
              "      <th>var_6m_price_mid_peak_var</th>\n",
              "      <th>var_6m_price_off_peak_fix</th>\n",
              "      <th>var_6m_price_peak_fix</th>\n",
              "      <th>var_6m_price_mid_peak_fix</th>\n",
              "      <th>var_6m_price_off_peak</th>\n",
              "      <th>var_6m_price_peak</th>\n",
              "      <th>var_6m_price_mid_peak</th>\n",
              "    </tr>\n",
              "  </thead>\n",
              "  <tbody>\n",
              "    <tr>\n",
              "      <th>0</th>\n",
              "      <td>0002203ffbb812588b632b9e628cc38d</td>\n",
              "      <td>0.000016</td>\n",
              "      <td>0.000004</td>\n",
              "      <td>1.871602e-06</td>\n",
              "      <td>4.021438e-03</td>\n",
              "      <td>0.001448</td>\n",
              "      <td>0.000643</td>\n",
              "      <td>0.004037</td>\n",
              "      <td>0.001452</td>\n",
              "      <td>0.000645</td>\n",
              "      <td>0.000011</td>\n",
              "      <td>0.000003</td>\n",
              "      <td>4.860000e-10</td>\n",
              "      <td>0.0</td>\n",
              "      <td>0.0</td>\n",
              "      <td>0.0</td>\n",
              "      <td>0.000011</td>\n",
              "      <td>0.000003</td>\n",
              "      <td>4.860000e-10</td>\n",
              "    </tr>\n",
              "    <tr>\n",
              "      <th>1</th>\n",
              "      <td>0004351ebdd665e6ee664792efc4fd13</td>\n",
              "      <td>0.000005</td>\n",
              "      <td>0.000000</td>\n",
              "      <td>0.000000e+00</td>\n",
              "      <td>7.661891e-03</td>\n",
              "      <td>0.000000</td>\n",
              "      <td>0.000000</td>\n",
              "      <td>0.007667</td>\n",
              "      <td>0.000000</td>\n",
              "      <td>0.000000</td>\n",
              "      <td>0.000003</td>\n",
              "      <td>0.000000</td>\n",
              "      <td>0.000000e+00</td>\n",
              "      <td>0.0</td>\n",
              "      <td>0.0</td>\n",
              "      <td>0.0</td>\n",
              "      <td>0.000003</td>\n",
              "      <td>0.000000</td>\n",
              "      <td>0.000000e+00</td>\n",
              "    </tr>\n",
              "    <tr>\n",
              "      <th>2</th>\n",
              "      <td>0010bcc39e42b3c2131ed2ce55246e3c</td>\n",
              "      <td>0.000676</td>\n",
              "      <td>0.000000</td>\n",
              "      <td>0.000000e+00</td>\n",
              "      <td>5.965909e-01</td>\n",
              "      <td>0.000000</td>\n",
              "      <td>0.000000</td>\n",
              "      <td>0.597267</td>\n",
              "      <td>0.000000</td>\n",
              "      <td>0.000000</td>\n",
              "      <td>0.000003</td>\n",
              "      <td>0.000000</td>\n",
              "      <td>0.000000e+00</td>\n",
              "      <td>0.0</td>\n",
              "      <td>0.0</td>\n",
              "      <td>0.0</td>\n",
              "      <td>0.000003</td>\n",
              "      <td>0.000000</td>\n",
              "      <td>0.000000e+00</td>\n",
              "    </tr>\n",
              "    <tr>\n",
              "      <th>3</th>\n",
              "      <td>0010ee3855fdea87602a5b7aba8e42de</td>\n",
              "      <td>0.000025</td>\n",
              "      <td>0.000007</td>\n",
              "      <td>1.627620e-07</td>\n",
              "      <td>7.238536e-03</td>\n",
              "      <td>0.002606</td>\n",
              "      <td>0.001158</td>\n",
              "      <td>0.007264</td>\n",
              "      <td>0.002613</td>\n",
              "      <td>0.001158</td>\n",
              "      <td>0.000011</td>\n",
              "      <td>0.000003</td>\n",
              "      <td>4.860000e-10</td>\n",
              "      <td>0.0</td>\n",
              "      <td>0.0</td>\n",
              "      <td>0.0</td>\n",
              "      <td>0.000011</td>\n",
              "      <td>0.000003</td>\n",
              "      <td>4.860000e-10</td>\n",
              "    </tr>\n",
              "    <tr>\n",
              "      <th>4</th>\n",
              "      <td>00114d74e963e47177db89bc70108537</td>\n",
              "      <td>0.000005</td>\n",
              "      <td>0.000000</td>\n",
              "      <td>0.000000e+00</td>\n",
              "      <td>3.490909e-13</td>\n",
              "      <td>0.000000</td>\n",
              "      <td>0.000000</td>\n",
              "      <td>0.000005</td>\n",
              "      <td>0.000000</td>\n",
              "      <td>0.000000</td>\n",
              "      <td>0.000003</td>\n",
              "      <td>0.000000</td>\n",
              "      <td>0.000000e+00</td>\n",
              "      <td>0.0</td>\n",
              "      <td>0.0</td>\n",
              "      <td>0.0</td>\n",
              "      <td>0.000003</td>\n",
              "      <td>0.000000</td>\n",
              "      <td>0.000000e+00</td>\n",
              "    </tr>\n",
              "  </tbody>\n",
              "</table>\n",
              "</div>\n",
              "      <button class=\"colab-df-convert\" onclick=\"convertToInteractive('df-e84517da-ebee-448c-9485-c3e6f9c646b7')\"\n",
              "              title=\"Convert this dataframe to an interactive table.\"\n",
              "              style=\"display:none;\">\n",
              "        \n",
              "  <svg xmlns=\"http://www.w3.org/2000/svg\" height=\"24px\"viewBox=\"0 0 24 24\"\n",
              "       width=\"24px\">\n",
              "    <path d=\"M0 0h24v24H0V0z\" fill=\"none\"/>\n",
              "    <path d=\"M18.56 5.44l.94 2.06.94-2.06 2.06-.94-2.06-.94-.94-2.06-.94 2.06-2.06.94zm-11 1L8.5 8.5l.94-2.06 2.06-.94-2.06-.94L8.5 2.5l-.94 2.06-2.06.94zm10 10l.94 2.06.94-2.06 2.06-.94-2.06-.94-.94-2.06-.94 2.06-2.06.94z\"/><path d=\"M17.41 7.96l-1.37-1.37c-.4-.4-.92-.59-1.43-.59-.52 0-1.04.2-1.43.59L10.3 9.45l-7.72 7.72c-.78.78-.78 2.05 0 2.83L4 21.41c.39.39.9.59 1.41.59.51 0 1.02-.2 1.41-.59l7.78-7.78 2.81-2.81c.8-.78.8-2.07 0-2.86zM5.41 20L4 18.59l7.72-7.72 1.47 1.35L5.41 20z\"/>\n",
              "  </svg>\n",
              "      </button>\n",
              "      \n",
              "  <style>\n",
              "    .colab-df-container {\n",
              "      display:flex;\n",
              "      flex-wrap:wrap;\n",
              "      gap: 12px;\n",
              "    }\n",
              "\n",
              "    .colab-df-convert {\n",
              "      background-color: #E8F0FE;\n",
              "      border: none;\n",
              "      border-radius: 50%;\n",
              "      cursor: pointer;\n",
              "      display: none;\n",
              "      fill: #1967D2;\n",
              "      height: 32px;\n",
              "      padding: 0 0 0 0;\n",
              "      width: 32px;\n",
              "    }\n",
              "\n",
              "    .colab-df-convert:hover {\n",
              "      background-color: #E2EBFA;\n",
              "      box-shadow: 0px 1px 2px rgba(60, 64, 67, 0.3), 0px 1px 3px 1px rgba(60, 64, 67, 0.15);\n",
              "      fill: #174EA6;\n",
              "    }\n",
              "\n",
              "    [theme=dark] .colab-df-convert {\n",
              "      background-color: #3B4455;\n",
              "      fill: #D2E3FC;\n",
              "    }\n",
              "\n",
              "    [theme=dark] .colab-df-convert:hover {\n",
              "      background-color: #434B5C;\n",
              "      box-shadow: 0px 1px 3px 1px rgba(0, 0, 0, 0.15);\n",
              "      filter: drop-shadow(0px 1px 2px rgba(0, 0, 0, 0.3));\n",
              "      fill: #FFFFFF;\n",
              "    }\n",
              "  </style>\n",
              "\n",
              "      <script>\n",
              "        const buttonEl =\n",
              "          document.querySelector('#df-e84517da-ebee-448c-9485-c3e6f9c646b7 button.colab-df-convert');\n",
              "        buttonEl.style.display =\n",
              "          google.colab.kernel.accessAllowed ? 'block' : 'none';\n",
              "\n",
              "        async function convertToInteractive(key) {\n",
              "          const element = document.querySelector('#df-e84517da-ebee-448c-9485-c3e6f9c646b7');\n",
              "          const dataTable =\n",
              "            await google.colab.kernel.invokeFunction('convertToInteractive',\n",
              "                                                     [key], {});\n",
              "          if (!dataTable) return;\n",
              "\n",
              "          const docLinkHtml = 'Like what you see? Visit the ' +\n",
              "            '<a target=\"_blank\" href=https://colab.research.google.com/notebooks/data_table.ipynb>data table notebook</a>'\n",
              "            + ' to learn more about interactive tables.';\n",
              "          element.innerHTML = '';\n",
              "          dataTable['output_type'] = 'display_data';\n",
              "          await google.colab.output.renderOutput(dataTable, element);\n",
              "          const docLink = document.createElement('div');\n",
              "          docLink.innerHTML = docLinkHtml;\n",
              "          element.appendChild(docLink);\n",
              "        }\n",
              "      </script>\n",
              "    </div>\n",
              "  </div>\n",
              "  "
            ]
          },
          "metadata": {},
          "execution_count": 256
        }
      ]
    },
    {
      "cell_type": "code",
      "source": [
        "# Merging Churn Data\n",
        "price_analysis=pd.merge(price,client_df[['id','churn']],on='id')\n",
        "\n",
        "# Printing the First 5 rows of the DataFrame\n",
        "price_analysis.head()"
      ],
      "metadata": {
        "colab": {
          "base_uri": "https://localhost:8080/",
          "height": 270
        },
        "id": "x-fzTSQtkO8w",
        "outputId": "1040ed0c-23a7-407d-ddd0-96f2d01790f1"
      },
      "id": "x-fzTSQtkO8w",
      "execution_count": 257,
      "outputs": [
        {
          "output_type": "execute_result",
          "data": {
            "text/plain": [
              "                                 id  var_year_price_off_peak_var  \\\n",
              "0  0002203ffbb812588b632b9e628cc38d                     0.000016   \n",
              "1  0004351ebdd665e6ee664792efc4fd13                     0.000005   \n",
              "2  0010bcc39e42b3c2131ed2ce55246e3c                     0.000676   \n",
              "3  00114d74e963e47177db89bc70108537                     0.000005   \n",
              "4  0013f326a839a2f6ad87a1859952d227                     0.000016   \n",
              "\n",
              "   var_year_price_peak_var  var_year_price_mid_peak_var  \\\n",
              "0                 0.000004                     0.000002   \n",
              "1                 0.000000                     0.000000   \n",
              "2                 0.000000                     0.000000   \n",
              "3                 0.000000                     0.000000   \n",
              "4                 0.000004                     0.000002   \n",
              "\n",
              "   var_year_price_off_peak_fix  var_year_price_peak_fix  \\\n",
              "0                 4.021438e-03                 0.001448   \n",
              "1                 7.661891e-03                 0.000000   \n",
              "2                 5.965909e-01                 0.000000   \n",
              "3                 3.490909e-13                 0.000000   \n",
              "4                 0.000000e+00                 0.000000   \n",
              "\n",
              "   var_year_price_mid_peak_fix  var_year_price_off_peak  var_year_price_peak  \\\n",
              "0                     0.000643                 0.004037             0.001452   \n",
              "1                     0.000000                 0.007667             0.000000   \n",
              "2                     0.000000                 0.597267             0.000000   \n",
              "3                     0.000000                 0.000005             0.000000   \n",
              "4                     0.000000                 0.000016             0.000004   \n",
              "\n",
              "   var_year_price_mid_peak  var_6m_price_off_peak_var  var_6m_price_peak_var  \\\n",
              "0                 0.000645                   0.000011               0.000003   \n",
              "1                 0.000000                   0.000003               0.000000   \n",
              "2                 0.000000                   0.000003               0.000000   \n",
              "3                 0.000000                   0.000003               0.000000   \n",
              "4                 0.000002                   0.000011               0.000003   \n",
              "\n",
              "   var_6m_price_mid_peak_var  var_6m_price_off_peak_fix  \\\n",
              "0               4.860000e-10                        0.0   \n",
              "1               0.000000e+00                        0.0   \n",
              "2               0.000000e+00                        0.0   \n",
              "3               0.000000e+00                        0.0   \n",
              "4               4.860000e-10                        0.0   \n",
              "\n",
              "   var_6m_price_peak_fix  var_6m_price_mid_peak_fix  var_6m_price_off_peak  \\\n",
              "0                    0.0                        0.0               0.000011   \n",
              "1                    0.0                        0.0               0.000003   \n",
              "2                    0.0                        0.0               0.000003   \n",
              "3                    0.0                        0.0               0.000003   \n",
              "4                    0.0                        0.0               0.000011   \n",
              "\n",
              "   var_6m_price_peak  var_6m_price_mid_peak  churn  \n",
              "0           0.000003           4.860000e-10      0  \n",
              "1           0.000000           0.000000e+00      0  \n",
              "2           0.000000           0.000000e+00      0  \n",
              "3           0.000000           0.000000e+00      0  \n",
              "4           0.000003           4.860000e-10      0  "
            ],
            "text/html": [
              "\n",
              "  <div id=\"df-b2eb3960-9992-45f3-9d73-b07897835bb2\">\n",
              "    <div class=\"colab-df-container\">\n",
              "      <div>\n",
              "<style scoped>\n",
              "    .dataframe tbody tr th:only-of-type {\n",
              "        vertical-align: middle;\n",
              "    }\n",
              "\n",
              "    .dataframe tbody tr th {\n",
              "        vertical-align: top;\n",
              "    }\n",
              "\n",
              "    .dataframe thead th {\n",
              "        text-align: right;\n",
              "    }\n",
              "</style>\n",
              "<table border=\"1\" class=\"dataframe\">\n",
              "  <thead>\n",
              "    <tr style=\"text-align: right;\">\n",
              "      <th></th>\n",
              "      <th>id</th>\n",
              "      <th>var_year_price_off_peak_var</th>\n",
              "      <th>var_year_price_peak_var</th>\n",
              "      <th>var_year_price_mid_peak_var</th>\n",
              "      <th>var_year_price_off_peak_fix</th>\n",
              "      <th>var_year_price_peak_fix</th>\n",
              "      <th>var_year_price_mid_peak_fix</th>\n",
              "      <th>var_year_price_off_peak</th>\n",
              "      <th>var_year_price_peak</th>\n",
              "      <th>var_year_price_mid_peak</th>\n",
              "      <th>var_6m_price_off_peak_var</th>\n",
              "      <th>var_6m_price_peak_var</th>\n",
              "      <th>var_6m_price_mid_peak_var</th>\n",
              "      <th>var_6m_price_off_peak_fix</th>\n",
              "      <th>var_6m_price_peak_fix</th>\n",
              "      <th>var_6m_price_mid_peak_fix</th>\n",
              "      <th>var_6m_price_off_peak</th>\n",
              "      <th>var_6m_price_peak</th>\n",
              "      <th>var_6m_price_mid_peak</th>\n",
              "      <th>churn</th>\n",
              "    </tr>\n",
              "  </thead>\n",
              "  <tbody>\n",
              "    <tr>\n",
              "      <th>0</th>\n",
              "      <td>0002203ffbb812588b632b9e628cc38d</td>\n",
              "      <td>0.000016</td>\n",
              "      <td>0.000004</td>\n",
              "      <td>0.000002</td>\n",
              "      <td>4.021438e-03</td>\n",
              "      <td>0.001448</td>\n",
              "      <td>0.000643</td>\n",
              "      <td>0.004037</td>\n",
              "      <td>0.001452</td>\n",
              "      <td>0.000645</td>\n",
              "      <td>0.000011</td>\n",
              "      <td>0.000003</td>\n",
              "      <td>4.860000e-10</td>\n",
              "      <td>0.0</td>\n",
              "      <td>0.0</td>\n",
              "      <td>0.0</td>\n",
              "      <td>0.000011</td>\n",
              "      <td>0.000003</td>\n",
              "      <td>4.860000e-10</td>\n",
              "      <td>0</td>\n",
              "    </tr>\n",
              "    <tr>\n",
              "      <th>1</th>\n",
              "      <td>0004351ebdd665e6ee664792efc4fd13</td>\n",
              "      <td>0.000005</td>\n",
              "      <td>0.000000</td>\n",
              "      <td>0.000000</td>\n",
              "      <td>7.661891e-03</td>\n",
              "      <td>0.000000</td>\n",
              "      <td>0.000000</td>\n",
              "      <td>0.007667</td>\n",
              "      <td>0.000000</td>\n",
              "      <td>0.000000</td>\n",
              "      <td>0.000003</td>\n",
              "      <td>0.000000</td>\n",
              "      <td>0.000000e+00</td>\n",
              "      <td>0.0</td>\n",
              "      <td>0.0</td>\n",
              "      <td>0.0</td>\n",
              "      <td>0.000003</td>\n",
              "      <td>0.000000</td>\n",
              "      <td>0.000000e+00</td>\n",
              "      <td>0</td>\n",
              "    </tr>\n",
              "    <tr>\n",
              "      <th>2</th>\n",
              "      <td>0010bcc39e42b3c2131ed2ce55246e3c</td>\n",
              "      <td>0.000676</td>\n",
              "      <td>0.000000</td>\n",
              "      <td>0.000000</td>\n",
              "      <td>5.965909e-01</td>\n",
              "      <td>0.000000</td>\n",
              "      <td>0.000000</td>\n",
              "      <td>0.597267</td>\n",
              "      <td>0.000000</td>\n",
              "      <td>0.000000</td>\n",
              "      <td>0.000003</td>\n",
              "      <td>0.000000</td>\n",
              "      <td>0.000000e+00</td>\n",
              "      <td>0.0</td>\n",
              "      <td>0.0</td>\n",
              "      <td>0.0</td>\n",
              "      <td>0.000003</td>\n",
              "      <td>0.000000</td>\n",
              "      <td>0.000000e+00</td>\n",
              "      <td>0</td>\n",
              "    </tr>\n",
              "    <tr>\n",
              "      <th>3</th>\n",
              "      <td>00114d74e963e47177db89bc70108537</td>\n",
              "      <td>0.000005</td>\n",
              "      <td>0.000000</td>\n",
              "      <td>0.000000</td>\n",
              "      <td>3.490909e-13</td>\n",
              "      <td>0.000000</td>\n",
              "      <td>0.000000</td>\n",
              "      <td>0.000005</td>\n",
              "      <td>0.000000</td>\n",
              "      <td>0.000000</td>\n",
              "      <td>0.000003</td>\n",
              "      <td>0.000000</td>\n",
              "      <td>0.000000e+00</td>\n",
              "      <td>0.0</td>\n",
              "      <td>0.0</td>\n",
              "      <td>0.0</td>\n",
              "      <td>0.000003</td>\n",
              "      <td>0.000000</td>\n",
              "      <td>0.000000e+00</td>\n",
              "      <td>0</td>\n",
              "    </tr>\n",
              "    <tr>\n",
              "      <th>4</th>\n",
              "      <td>0013f326a839a2f6ad87a1859952d227</td>\n",
              "      <td>0.000016</td>\n",
              "      <td>0.000004</td>\n",
              "      <td>0.000002</td>\n",
              "      <td>0.000000e+00</td>\n",
              "      <td>0.000000</td>\n",
              "      <td>0.000000</td>\n",
              "      <td>0.000016</td>\n",
              "      <td>0.000004</td>\n",
              "      <td>0.000002</td>\n",
              "      <td>0.000011</td>\n",
              "      <td>0.000003</td>\n",
              "      <td>4.860000e-10</td>\n",
              "      <td>0.0</td>\n",
              "      <td>0.0</td>\n",
              "      <td>0.0</td>\n",
              "      <td>0.000011</td>\n",
              "      <td>0.000003</td>\n",
              "      <td>4.860000e-10</td>\n",
              "      <td>0</td>\n",
              "    </tr>\n",
              "  </tbody>\n",
              "</table>\n",
              "</div>\n",
              "      <button class=\"colab-df-convert\" onclick=\"convertToInteractive('df-b2eb3960-9992-45f3-9d73-b07897835bb2')\"\n",
              "              title=\"Convert this dataframe to an interactive table.\"\n",
              "              style=\"display:none;\">\n",
              "        \n",
              "  <svg xmlns=\"http://www.w3.org/2000/svg\" height=\"24px\"viewBox=\"0 0 24 24\"\n",
              "       width=\"24px\">\n",
              "    <path d=\"M0 0h24v24H0V0z\" fill=\"none\"/>\n",
              "    <path d=\"M18.56 5.44l.94 2.06.94-2.06 2.06-.94-2.06-.94-.94-2.06-.94 2.06-2.06.94zm-11 1L8.5 8.5l.94-2.06 2.06-.94-2.06-.94L8.5 2.5l-.94 2.06-2.06.94zm10 10l.94 2.06.94-2.06 2.06-.94-2.06-.94-.94-2.06-.94 2.06-2.06.94z\"/><path d=\"M17.41 7.96l-1.37-1.37c-.4-.4-.92-.59-1.43-.59-.52 0-1.04.2-1.43.59L10.3 9.45l-7.72 7.72c-.78.78-.78 2.05 0 2.83L4 21.41c.39.39.9.59 1.41.59.51 0 1.02-.2 1.41-.59l7.78-7.78 2.81-2.81c.8-.78.8-2.07 0-2.86zM5.41 20L4 18.59l7.72-7.72 1.47 1.35L5.41 20z\"/>\n",
              "  </svg>\n",
              "      </button>\n",
              "      \n",
              "  <style>\n",
              "    .colab-df-container {\n",
              "      display:flex;\n",
              "      flex-wrap:wrap;\n",
              "      gap: 12px;\n",
              "    }\n",
              "\n",
              "    .colab-df-convert {\n",
              "      background-color: #E8F0FE;\n",
              "      border: none;\n",
              "      border-radius: 50%;\n",
              "      cursor: pointer;\n",
              "      display: none;\n",
              "      fill: #1967D2;\n",
              "      height: 32px;\n",
              "      padding: 0 0 0 0;\n",
              "      width: 32px;\n",
              "    }\n",
              "\n",
              "    .colab-df-convert:hover {\n",
              "      background-color: #E2EBFA;\n",
              "      box-shadow: 0px 1px 2px rgba(60, 64, 67, 0.3), 0px 1px 3px 1px rgba(60, 64, 67, 0.15);\n",
              "      fill: #174EA6;\n",
              "    }\n",
              "\n",
              "    [theme=dark] .colab-df-convert {\n",
              "      background-color: #3B4455;\n",
              "      fill: #D2E3FC;\n",
              "    }\n",
              "\n",
              "    [theme=dark] .colab-df-convert:hover {\n",
              "      background-color: #434B5C;\n",
              "      box-shadow: 0px 1px 3px 1px rgba(0, 0, 0, 0.15);\n",
              "      filter: drop-shadow(0px 1px 2px rgba(0, 0, 0, 0.3));\n",
              "      fill: #FFFFFF;\n",
              "    }\n",
              "  </style>\n",
              "\n",
              "      <script>\n",
              "        const buttonEl =\n",
              "          document.querySelector('#df-b2eb3960-9992-45f3-9d73-b07897835bb2 button.colab-df-convert');\n",
              "        buttonEl.style.display =\n",
              "          google.colab.kernel.accessAllowed ? 'block' : 'none';\n",
              "\n",
              "        async function convertToInteractive(key) {\n",
              "          const element = document.querySelector('#df-b2eb3960-9992-45f3-9d73-b07897835bb2');\n",
              "          const dataTable =\n",
              "            await google.colab.kernel.invokeFunction('convertToInteractive',\n",
              "                                                     [key], {});\n",
              "          if (!dataTable) return;\n",
              "\n",
              "          const docLinkHtml = 'Like what you see? Visit the ' +\n",
              "            '<a target=\"_blank\" href=https://colab.research.google.com/notebooks/data_table.ipynb>data table notebook</a>'\n",
              "            + ' to learn more about interactive tables.';\n",
              "          element.innerHTML = '';\n",
              "          dataTable['output_type'] = 'display_data';\n",
              "          await google.colab.output.renderOutput(dataTable, element);\n",
              "          const docLink = document.createElement('div');\n",
              "          docLink.innerHTML = docLinkHtml;\n",
              "          element.appendChild(docLink);\n",
              "        }\n",
              "      </script>\n",
              "    </div>\n",
              "  </div>\n",
              "  "
            ]
          },
          "metadata": {},
          "execution_count": 257
        }
      ]
    },
    {
      "cell_type": "code",
      "source": [
        "# Plotting Correlation HeatMap\n",
        "corr=price_analysis.corr()\n",
        "# Plot correlation\n",
        "plt.figure(figsize=(15,15))\n",
        "sns.heatmap(corr, xticklabels=corr.columns.values, yticklabels=corr.columns.values, annot = True, annot_kws={'size':10})\n",
        "# Axis ticks size\n",
        "plt.xticks(fontsize=10)\n",
        "plt.yticks(fontsize=10)\n",
        "plt.show()"
      ],
      "metadata": {
        "colab": {
          "base_uri": "https://localhost:8080/",
          "height": 1000
        },
        "id": "M4fuLrvRlDZT",
        "outputId": "33947f8e-22c4-47ea-dcaf-bcbdc4482fa7"
      },
      "id": "M4fuLrvRlDZT",
      "execution_count": 258,
      "outputs": [
        {
          "output_type": "display_data",
          "data": {
            "text/plain": [
              "<Figure size 1080x1080 with 2 Axes>"
            ],
            "image/png": "[encoded data removed]"
          },
          "metadata": {}
        }
      ]
    },
    {
      "cell_type": "markdown",
      "source": [
        "The Correlation Heat Map reveals that the price sensitivity features have a very weak correlation with churn.This indicates that in order to utilize price sensitivity as a significant factor in predicting churn, we may need to modify our feature engineering approach."
      ],
      "metadata": {
        "id": "q1uMKYY6mpRg"
      },
      "id": "q1uMKYY6mpRg"
    },
    {
      "cell_type": "code",
      "source": [
        "# Exporting Cleaned Dataset\n",
        "final_df=pd.merge(client_df.drop(columns=['churn']), price_analysis,on='id')"
      ],
      "metadata": {
        "id": "ZEDn-WANr8ug"
      },
      "id": "ZEDn-WANr8ug",
      "execution_count": 259,
      "outputs": []
    },
    {
      "cell_type": "code",
      "source": [
        "final_df.to_csv('cleaned_data.csv')"
      ],
      "metadata": {
        "id": "R25gvuk2sC3y"
      },
      "id": "R25gvuk2sC3y",
      "execution_count": 260,
      "outputs": []
    }
  ],
  "metadata": {
    "interpreter": {
      "hash": "152bf6e7dc8ee53edb5af21dc1a8faeab7f134840808a94079ed98d91ece7e0c"
    },
    "kernelspec": {
      "display_name": "Python 3",
      "language": "python",
      "name": "python3"
    },
    "language_info": {
      "codemirror_mode": {
        "name": "ipython",
        "version": 3
      },
      "file_extension": ".py",
      "mimetype": "text/x-python",
      "name": "python",
      "nbconvert_exporter": "python",
      "pygments_lexer": "ipython3",
      "version": "3.7.9"
    },
    "colab": {
      "provenance": []
    }
  },
  "nbformat": 4,
  "nbformat_minor": 5
}